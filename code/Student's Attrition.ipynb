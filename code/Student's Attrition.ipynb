{
 "cells": [
  {
   "cell_type": "code",
   "execution_count": 1,
   "metadata": {},
   "outputs": [],
   "source": [
    "import os\n",
    "import pandas as pd\n",
    "import numpy as np\n",
    "from pandas import Series, DataFrame\n",
    "import seaborn as sns\n",
    "import matplotlib.pyplot as plt\n",
    "%matplotlib inline\n",
    "import warnings\n",
    "warnings.filterwarnings('ignore')"
   ]
  },
  {
   "cell_type": "code",
   "execution_count": 2,
   "metadata": {},
   "outputs": [
    {
     "data": {
      "text/plain": [
       "'D:\\\\Jupyter'"
      ]
     },
     "execution_count": 2,
     "metadata": {},
     "output_type": "execute_result"
    }
   ],
   "source": [
    "os.chdir('D:\\Jupyter')\n",
    "os.getcwd()"
   ]
  },
  {
   "cell_type": "code",
   "execution_count": 3,
   "metadata": {},
   "outputs": [],
   "source": [
    "df=pd.read_excel('Student Applications & Performance.xlsx')"
   ]
  },
  {
   "cell_type": "code",
   "execution_count": 4,
   "metadata": {},
   "outputs": [
    {
     "data": {
      "text/html": [
       "<div>\n",
       "<style scoped>\n",
       "    .dataframe tbody tr th:only-of-type {\n",
       "        vertical-align: middle;\n",
       "    }\n",
       "\n",
       "    .dataframe tbody tr th {\n",
       "        vertical-align: top;\n",
       "    }\n",
       "\n",
       "    .dataframe thead th {\n",
       "        text-align: right;\n",
       "    }\n",
       "</style>\n",
       "<table border=\"1\" class=\"dataframe\">\n",
       "  <thead>\n",
       "    <tr style=\"text-align: right;\">\n",
       "      <th></th>\n",
       "      <th>STUDENT IDENTIFIER</th>\n",
       "      <th>STDNT_AGE</th>\n",
       "      <th>STDNT_GENDER</th>\n",
       "      <th>STDNT_BACKGROUND</th>\n",
       "      <th>IN_STATE_FLAG</th>\n",
       "      <th>INTERNATIONAL_STS</th>\n",
       "      <th>STDNT_MAJOR</th>\n",
       "      <th>STDNT_MINOR</th>\n",
       "      <th>STDNT_TEST_ENTRANCE1</th>\n",
       "      <th>STDNT_TEST_ENTRANCE2</th>\n",
       "      <th>...</th>\n",
       "      <th>DEGREE_GROUP_CD</th>\n",
       "      <th>DEGREE_GROUP_DESC</th>\n",
       "      <th>FIRST_TERM_ATTEMPT_HRS</th>\n",
       "      <th>FIRST_TERM_EARNED_HRS</th>\n",
       "      <th>SECOND_TERM_ATTEMPT_HRS</th>\n",
       "      <th>SECOND_TERM_EARNED_HRS</th>\n",
       "      <th>GROSS_FIN_NEED</th>\n",
       "      <th>COST_OF_ATTEND</th>\n",
       "      <th>EST_FAM_CONTRIBUTION</th>\n",
       "      <th>UNMET_NEED</th>\n",
       "    </tr>\n",
       "  </thead>\n",
       "  <tbody>\n",
       "    <tr>\n",
       "      <th>0</th>\n",
       "      <td>7808615</td>\n",
       "      <td>18</td>\n",
       "      <td>F</td>\n",
       "      <td>BGD 1</td>\n",
       "      <td>Y</td>\n",
       "      <td>N</td>\n",
       "      <td>Undeclared</td>\n",
       "      <td>N</td>\n",
       "      <td>NaN</td>\n",
       "      <td>1150.0</td>\n",
       "      <td>...</td>\n",
       "      <td>B</td>\n",
       "      <td>Bachelors</td>\n",
       "      <td>16</td>\n",
       "      <td>16</td>\n",
       "      <td>14.0</td>\n",
       "      <td>14.0</td>\n",
       "      <td>0</td>\n",
       "      <td>0</td>\n",
       "      <td>0</td>\n",
       "      <td>0.0</td>\n",
       "    </tr>\n",
       "    <tr>\n",
       "      <th>1</th>\n",
       "      <td>7830063</td>\n",
       "      <td>19</td>\n",
       "      <td>F</td>\n",
       "      <td>BGD 1</td>\n",
       "      <td>N</td>\n",
       "      <td>N</td>\n",
       "      <td>Undeclared</td>\n",
       "      <td>N</td>\n",
       "      <td>26.0</td>\n",
       "      <td>NaN</td>\n",
       "      <td>...</td>\n",
       "      <td>B</td>\n",
       "      <td>Bachelors</td>\n",
       "      <td>18</td>\n",
       "      <td>18</td>\n",
       "      <td>18.0</td>\n",
       "      <td>18.0</td>\n",
       "      <td>570000</td>\n",
       "      <td>1355760</td>\n",
       "      <td>785760</td>\n",
       "      <td>459300.0</td>\n",
       "    </tr>\n",
       "    <tr>\n",
       "      <th>2</th>\n",
       "      <td>7847538</td>\n",
       "      <td>18</td>\n",
       "      <td>M</td>\n",
       "      <td>BGD 1</td>\n",
       "      <td>Y</td>\n",
       "      <td>N</td>\n",
       "      <td>Mathematics</td>\n",
       "      <td>N</td>\n",
       "      <td>NaN</td>\n",
       "      <td>1020.0</td>\n",
       "      <td>...</td>\n",
       "      <td>B</td>\n",
       "      <td>Bachelors</td>\n",
       "      <td>15</td>\n",
       "      <td>15</td>\n",
       "      <td>14.0</td>\n",
       "      <td>14.0</td>\n",
       "      <td>0</td>\n",
       "      <td>0</td>\n",
       "      <td>0</td>\n",
       "      <td>0.0</td>\n",
       "    </tr>\n",
       "    <tr>\n",
       "      <th>3</th>\n",
       "      <td>8006429</td>\n",
       "      <td>18</td>\n",
       "      <td>M</td>\n",
       "      <td>BGD 1</td>\n",
       "      <td>Y</td>\n",
       "      <td>N</td>\n",
       "      <td>Undeclared</td>\n",
       "      <td>N</td>\n",
       "      <td>NaN</td>\n",
       "      <td>1210.0</td>\n",
       "      <td>...</td>\n",
       "      <td>B</td>\n",
       "      <td>Bachelors</td>\n",
       "      <td>13</td>\n",
       "      <td>13</td>\n",
       "      <td>14.0</td>\n",
       "      <td>14.0</td>\n",
       "      <td>0</td>\n",
       "      <td>0</td>\n",
       "      <td>0</td>\n",
       "      <td>0.0</td>\n",
       "    </tr>\n",
       "    <tr>\n",
       "      <th>4</th>\n",
       "      <td>7962680</td>\n",
       "      <td>18</td>\n",
       "      <td>F</td>\n",
       "      <td>BGD 1</td>\n",
       "      <td>Y</td>\n",
       "      <td>N</td>\n",
       "      <td>Art</td>\n",
       "      <td>N</td>\n",
       "      <td>NaN</td>\n",
       "      <td>1200.0</td>\n",
       "      <td>...</td>\n",
       "      <td>B</td>\n",
       "      <td>Bachelors</td>\n",
       "      <td>12</td>\n",
       "      <td>12</td>\n",
       "      <td>12.0</td>\n",
       "      <td>12.0</td>\n",
       "      <td>835920</td>\n",
       "      <td>1355760</td>\n",
       "      <td>519840</td>\n",
       "      <td>278340.0</td>\n",
       "    </tr>\n",
       "  </tbody>\n",
       "</table>\n",
       "<p>5 rows × 56 columns</p>\n",
       "</div>"
      ],
      "text/plain": [
       "   STUDENT IDENTIFIER  STDNT_AGE STDNT_GENDER STDNT_BACKGROUND IN_STATE_FLAG  \\\n",
       "0             7808615         18            F            BGD 1             Y   \n",
       "1             7830063         19            F            BGD 1             N   \n",
       "2             7847538         18            M            BGD 1             Y   \n",
       "3             8006429         18            M            BGD 1             Y   \n",
       "4             7962680         18            F            BGD 1             Y   \n",
       "\n",
       "  INTERNATIONAL_STS  STDNT_MAJOR STDNT_MINOR  STDNT_TEST_ENTRANCE1  \\\n",
       "0                 N   Undeclared           N                   NaN   \n",
       "1                 N   Undeclared           N                  26.0   \n",
       "2                 N  Mathematics           N                   NaN   \n",
       "3                 N   Undeclared           N                   NaN   \n",
       "4                 N          Art           N                   NaN   \n",
       "\n",
       "   STDNT_TEST_ENTRANCE2  ...  DEGREE_GROUP_CD  DEGREE_GROUP_DESC  \\\n",
       "0                1150.0  ...                B          Bachelors   \n",
       "1                   NaN  ...                B          Bachelors   \n",
       "2                1020.0  ...                B          Bachelors   \n",
       "3                1210.0  ...                B          Bachelors   \n",
       "4                1200.0  ...                B          Bachelors   \n",
       "\n",
       "  FIRST_TERM_ATTEMPT_HRS FIRST_TERM_EARNED_HRS SECOND_TERM_ATTEMPT_HRS  \\\n",
       "0                     16                    16                    14.0   \n",
       "1                     18                    18                    18.0   \n",
       "2                     15                    15                    14.0   \n",
       "3                     13                    13                    14.0   \n",
       "4                     12                    12                    12.0   \n",
       "\n",
       "  SECOND_TERM_EARNED_HRS GROSS_FIN_NEED COST_OF_ATTEND EST_FAM_CONTRIBUTION  \\\n",
       "0                   14.0              0              0                    0   \n",
       "1                   18.0         570000        1355760               785760   \n",
       "2                   14.0              0              0                    0   \n",
       "3                   14.0              0              0                    0   \n",
       "4                   12.0         835920        1355760               519840   \n",
       "\n",
       "  UNMET_NEED  \n",
       "0        0.0  \n",
       "1   459300.0  \n",
       "2        0.0  \n",
       "3        0.0  \n",
       "4   278340.0  \n",
       "\n",
       "[5 rows x 56 columns]"
      ]
     },
     "execution_count": 4,
     "metadata": {},
     "output_type": "execute_result"
    }
   ],
   "source": [
    "df.head()"
   ]
  },
  {
   "cell_type": "code",
   "execution_count": 5,
   "metadata": {},
   "outputs": [
    {
     "data": {
      "text/plain": [
       "0    2677\n",
       "1     723\n",
       "Name: ATTRITION, dtype: int64"
      ]
     },
     "execution_count": 5,
     "metadata": {},
     "output_type": "execute_result"
    }
   ],
   "source": [
    "replace={1:0,0:1}\n",
    "df['ATTRITION']=df['RETURNED_2ND_YR'].map(lambda x:replace[x])\n",
    "df.drop(columns='RETURNED_2ND_YR',inplace=True)\n",
    "df['ATTRITION'].value_counts()"
   ]
  },
  {
   "cell_type": "markdown",
   "metadata": {},
   "source": [
    "# Exploratory Data Analysis"
   ]
  },
  {
   "cell_type": "markdown",
   "metadata": {},
   "source": [
    "### **Categorical Variables**"
   ]
  },
  {
   "cell_type": "code",
   "execution_count": 6,
   "metadata": {},
   "outputs": [
    {
     "data": {
      "text/plain": [
       "18    2860\n",
       "17     309\n",
       "19     190\n",
       "20      14\n",
       "16       8\n",
       "21       7\n",
       "22       4\n",
       "25       3\n",
       "23       3\n",
       "26       1\n",
       "24       1\n",
       "Name: STDNT_AGE, dtype: int64"
      ]
     },
     "execution_count": 6,
     "metadata": {},
     "output_type": "execute_result"
    },
    {
     "data": {
      "image/png": "[encoded data removed]",
      "text/plain": [
       "<Figure size 432x288 with 2 Axes>"
      ]
     },
     "metadata": {
      "needs_background": "light"
     },
     "output_type": "display_data"
    }
   ],
   "source": [
    "df['ATTRITION'].dtypes\n",
    "x=df[df['ATTRITION']==1]\n",
    "y=df[df['ATTRITION']==0]\n",
    "\n",
    "fig, axs = plt.subplots(1, 2, sharey=True, tight_layout=True)\n",
    "axs[0].hist(x['STDNT_AGE'], bins=10,normed=True)\n",
    "axs[1].hist(y['STDNT_AGE'], bins=10,normed=True)\n",
    "axs[0].set_title('ATTRITION')\n",
    "axs[1].set_title('NO ATTRITION')\n",
    "df['STDNT_AGE'].value_counts()"
   ]
  },
  {
   "cell_type": "markdown",
   "metadata": {},
   "source": [
    "Most of the students are 18 yrs old. No much difference between attrition & no attrition; variable behaves same. Will drop this one."
   ]
  },
  {
   "cell_type": "code",
   "execution_count": 7,
   "metadata": {},
   "outputs": [
    {
     "data": {
      "text/html": [
       "<div>\n",
       "<style scoped>\n",
       "    .dataframe tbody tr th:only-of-type {\n",
       "        vertical-align: middle;\n",
       "    }\n",
       "\n",
       "    .dataframe tbody tr th {\n",
       "        vertical-align: top;\n",
       "    }\n",
       "\n",
       "    .dataframe thead th {\n",
       "        text-align: right;\n",
       "    }\n",
       "</style>\n",
       "<table border=\"1\" class=\"dataframe\">\n",
       "  <thead>\n",
       "    <tr style=\"text-align: right;\">\n",
       "      <th></th>\n",
       "      <th>STDNT_GENDER</th>\n",
       "      <th>Left</th>\n",
       "      <th>Total_Count</th>\n",
       "      <th>Percent</th>\n",
       "    </tr>\n",
       "  </thead>\n",
       "  <tbody>\n",
       "    <tr>\n",
       "      <th>0</th>\n",
       "      <td>F</td>\n",
       "      <td>475</td>\n",
       "      <td>2140</td>\n",
       "      <td>0.221963</td>\n",
       "    </tr>\n",
       "    <tr>\n",
       "      <th>1</th>\n",
       "      <td>M</td>\n",
       "      <td>248</td>\n",
       "      <td>1260</td>\n",
       "      <td>0.196825</td>\n",
       "    </tr>\n",
       "  </tbody>\n",
       "</table>\n",
       "</div>"
      ],
      "text/plain": [
       "  STDNT_GENDER  Left  Total_Count   Percent\n",
       "0            F   475         2140  0.221963\n",
       "1            M   248         1260  0.196825"
      ]
     },
     "execution_count": 7,
     "metadata": {},
     "output_type": "execute_result"
    }
   ],
   "source": [
    "x=df.groupby('STDNT_GENDER',as_index=False).agg({'ATTRITION':'sum'}).rename(columns={'ATTRITION':'Left'})\n",
    "y=df.groupby('STDNT_GENDER',as_index=False).agg({'ATTRITION':'count'}).rename(columns={'ATTRITION':'Total_Count'})\n",
    "z=x.merge(y,on='STDNT_GENDER')\n",
    "z['Percent']=z['Left']/z['Total_Count']\n",
    "z=z.sort_values('Percent',ascending=False)\n",
    "z"
   ]
  },
  {
   "cell_type": "markdown",
   "metadata": {},
   "source": [
    "Female student leaving rate is slightly more than male students, but very less difference. Also, 37% total males 63% females. So, let's drop this one."
   ]
  },
  {
   "cell_type": "code",
   "execution_count": 8,
   "metadata": {},
   "outputs": [
    {
     "data": {
      "text/html": [
       "<div>\n",
       "<style scoped>\n",
       "    .dataframe tbody tr th:only-of-type {\n",
       "        vertical-align: middle;\n",
       "    }\n",
       "\n",
       "    .dataframe tbody tr th {\n",
       "        vertical-align: top;\n",
       "    }\n",
       "\n",
       "    .dataframe thead th {\n",
       "        text-align: right;\n",
       "    }\n",
       "</style>\n",
       "<table border=\"1\" class=\"dataframe\">\n",
       "  <thead>\n",
       "    <tr style=\"text-align: right;\">\n",
       "      <th></th>\n",
       "      <th>STDNT_BACKGROUND</th>\n",
       "      <th>Left</th>\n",
       "      <th>Total_Count</th>\n",
       "      <th>Percent</th>\n",
       "    </tr>\n",
       "  </thead>\n",
       "  <tbody>\n",
       "    <tr>\n",
       "      <th>4</th>\n",
       "      <td>BGD 5</td>\n",
       "      <td>4</td>\n",
       "      <td>8</td>\n",
       "      <td>0.500000</td>\n",
       "    </tr>\n",
       "    <tr>\n",
       "      <th>6</th>\n",
       "      <td>BGD 7</td>\n",
       "      <td>7</td>\n",
       "      <td>19</td>\n",
       "      <td>0.368421</td>\n",
       "    </tr>\n",
       "    <tr>\n",
       "      <th>0</th>\n",
       "      <td>BGD 1</td>\n",
       "      <td>477</td>\n",
       "      <td>2082</td>\n",
       "      <td>0.229107</td>\n",
       "    </tr>\n",
       "    <tr>\n",
       "      <th>1</th>\n",
       "      <td>BGD 2</td>\n",
       "      <td>24</td>\n",
       "      <td>106</td>\n",
       "      <td>0.226415</td>\n",
       "    </tr>\n",
       "    <tr>\n",
       "      <th>7</th>\n",
       "      <td>BGD 8</td>\n",
       "      <td>1</td>\n",
       "      <td>5</td>\n",
       "      <td>0.200000</td>\n",
       "    </tr>\n",
       "    <tr>\n",
       "      <th>3</th>\n",
       "      <td>BGD 4</td>\n",
       "      <td>26</td>\n",
       "      <td>139</td>\n",
       "      <td>0.187050</td>\n",
       "    </tr>\n",
       "    <tr>\n",
       "      <th>2</th>\n",
       "      <td>BGD 3</td>\n",
       "      <td>170</td>\n",
       "      <td>947</td>\n",
       "      <td>0.179514</td>\n",
       "    </tr>\n",
       "    <tr>\n",
       "      <th>5</th>\n",
       "      <td>BGD 6</td>\n",
       "      <td>14</td>\n",
       "      <td>94</td>\n",
       "      <td>0.148936</td>\n",
       "    </tr>\n",
       "  </tbody>\n",
       "</table>\n",
       "</div>"
      ],
      "text/plain": [
       "  STDNT_BACKGROUND  Left  Total_Count   Percent\n",
       "4            BGD 5     4            8  0.500000\n",
       "6            BGD 7     7           19  0.368421\n",
       "0            BGD 1   477         2082  0.229107\n",
       "1            BGD 2    24          106  0.226415\n",
       "7            BGD 8     1            5  0.200000\n",
       "3            BGD 4    26          139  0.187050\n",
       "2            BGD 3   170          947  0.179514\n",
       "5            BGD 6    14           94  0.148936"
      ]
     },
     "metadata": {},
     "output_type": "display_data"
    },
    {
     "data": {
      "text/plain": [
       "<matplotlib.axes._subplots.AxesSubplot at 0x23d953e8388>"
      ]
     },
     "execution_count": 8,
     "metadata": {},
     "output_type": "execute_result"
    },
    {
     "data": {
      "image/png": "[encoded data removed]",
      "text/plain": [
       "<Figure size 432x288 with 1 Axes>"
      ]
     },
     "metadata": {
      "needs_background": "light"
     },
     "output_type": "display_data"
    }
   ],
   "source": [
    "x=df.groupby('STDNT_BACKGROUND',as_index=False).agg({'ATTRITION':'sum'}).rename(columns={'ATTRITION':'Left'})\n",
    "y=df.groupby('STDNT_BACKGROUND',as_index=False).agg({'ATTRITION':'count'}).rename(columns={'ATTRITION':'Total_Count'})\n",
    "z=x.merge(y,on='STDNT_BACKGROUND')\n",
    "z['Percent']=z['Left']/z['Total_Count']\n",
    "z=z.sort_values('Percent',ascending=False)\n",
    "display(z)\n",
    "ax=sns.barplot(x=z['STDNT_BACKGROUND'],y=z['Percent'],data=z)\n",
    "ax\n"
   ]
  },
  {
   "cell_type": "markdown",
   "metadata": {},
   "source": [
    "BGD 5 showing highest attrition but only 8 students are from BGD 5."
   ]
  },
  {
   "cell_type": "code",
   "execution_count": 9,
   "metadata": {},
   "outputs": [
    {
     "data": {
      "text/html": [
       "<div>\n",
       "<style scoped>\n",
       "    .dataframe tbody tr th:only-of-type {\n",
       "        vertical-align: middle;\n",
       "    }\n",
       "\n",
       "    .dataframe tbody tr th {\n",
       "        vertical-align: top;\n",
       "    }\n",
       "\n",
       "    .dataframe thead th {\n",
       "        text-align: right;\n",
       "    }\n",
       "</style>\n",
       "<table border=\"1\" class=\"dataframe\">\n",
       "  <thead>\n",
       "    <tr style=\"text-align: right;\">\n",
       "      <th></th>\n",
       "      <th>IN_STATE_FLAG</th>\n",
       "      <th>Left</th>\n",
       "      <th>Total_Count</th>\n",
       "      <th>Percent</th>\n",
       "    </tr>\n",
       "  </thead>\n",
       "  <tbody>\n",
       "    <tr>\n",
       "      <th>0</th>\n",
       "      <td>N</td>\n",
       "      <td>89</td>\n",
       "      <td>337</td>\n",
       "      <td>0.264095</td>\n",
       "    </tr>\n",
       "    <tr>\n",
       "      <th>1</th>\n",
       "      <td>Y</td>\n",
       "      <td>634</td>\n",
       "      <td>3063</td>\n",
       "      <td>0.206987</td>\n",
       "    </tr>\n",
       "  </tbody>\n",
       "</table>\n",
       "</div>"
      ],
      "text/plain": [
       "  IN_STATE_FLAG  Left  Total_Count   Percent\n",
       "0             N    89          337  0.264095\n",
       "1             Y   634         3063  0.206987"
      ]
     },
     "metadata": {},
     "output_type": "display_data"
    },
    {
     "data": {
      "text/html": [
       "<div>\n",
       "<style scoped>\n",
       "    .dataframe tbody tr th:only-of-type {\n",
       "        vertical-align: middle;\n",
       "    }\n",
       "\n",
       "    .dataframe tbody tr th {\n",
       "        vertical-align: top;\n",
       "    }\n",
       "\n",
       "    .dataframe thead th {\n",
       "        text-align: right;\n",
       "    }\n",
       "</style>\n",
       "<table border=\"1\" class=\"dataframe\">\n",
       "  <thead>\n",
       "    <tr style=\"text-align: right;\">\n",
       "      <th></th>\n",
       "      <th>INTERNATIONAL_STS</th>\n",
       "      <th>Left</th>\n",
       "      <th>Total_Count</th>\n",
       "      <th>Percent</th>\n",
       "    </tr>\n",
       "  </thead>\n",
       "  <tbody>\n",
       "    <tr>\n",
       "      <th>1</th>\n",
       "      <td>Y</td>\n",
       "      <td>12</td>\n",
       "      <td>27</td>\n",
       "      <td>0.444444</td>\n",
       "    </tr>\n",
       "    <tr>\n",
       "      <th>0</th>\n",
       "      <td>N</td>\n",
       "      <td>711</td>\n",
       "      <td>3373</td>\n",
       "      <td>0.210792</td>\n",
       "    </tr>\n",
       "  </tbody>\n",
       "</table>\n",
       "</div>"
      ],
      "text/plain": [
       "  INTERNATIONAL_STS  Left  Total_Count   Percent\n",
       "1                 Y    12           27  0.444444\n",
       "0                 N   711         3373  0.210792"
      ]
     },
     "metadata": {},
     "output_type": "display_data"
    }
   ],
   "source": [
    "x=df.groupby('IN_STATE_FLAG',as_index=False).agg({'ATTRITION':'sum'}).rename(columns={'ATTRITION':'Left'})\n",
    "y=df.groupby('IN_STATE_FLAG',as_index=False).agg({'ATTRITION':'count'}).rename(columns={'ATTRITION':'Total_Count'})\n",
    "z=x.merge(y,on='IN_STATE_FLAG')\n",
    "z['Percent']=z['Left']/z['Total_Count']\n",
    "z=z.sort_values('Percent',ascending=False)\n",
    "display(z)\n",
    "\n",
    "x1=df.groupby('INTERNATIONAL_STS',as_index=False).agg({'ATTRITION':'sum'}).rename(columns={'ATTRITION':'Left'})\n",
    "y1=df.groupby('INTERNATIONAL_STS',as_index=False).agg({'ATTRITION':'count'}).rename(columns={'ATTRITION':'Total_Count'})\n",
    "z1=x1.merge(y1,on='INTERNATIONAL_STS')\n",
    "z1['Percent']=z1['Left']/z1['Total_Count']\n",
    "z1=z1.sort_values('Percent',ascending=False)\n",
    "display(z1)\n"
   ]
  },
  {
   "cell_type": "markdown",
   "metadata": {},
   "source": [
    "    Internations student count is very less which can cause biasness - will consider dropping\n",
    "    State flag variable seems to have little importance - keeping it"
   ]
  },
  {
   "cell_type": "code",
   "execution_count": 10,
   "metadata": {},
   "outputs": [
    {
     "data": {
      "text/plain": [
       "<matplotlib.axes._subplots.AxesSubplot at 0x23d9534bc48>"
      ]
     },
     "execution_count": 10,
     "metadata": {},
     "output_type": "execute_result"
    },
    {
     "data": {
      "image/png": "[encoded data removed]",
      "text/plain": [
       "<Figure size 1080x1584 with 1 Axes>"
      ]
     },
     "metadata": {
      "needs_background": "light"
     },
     "output_type": "display_data"
    }
   ],
   "source": [
    "x=df.groupby('STDNT_MAJOR',as_index=False).agg({'ATTRITION':'sum'}).rename(columns={'ATTRITION':'Left'})\n",
    "y=df.groupby('STDNT_MAJOR',as_index=False).agg({'ATTRITION':'count'}).rename(columns={'ATTRITION':'Total_Count'})\n",
    "z=x.merge(y,on='STDNT_MAJOR')\n",
    "z['Percent']=z['Left']/z['Total_Count']\n",
    "z=z.sort_values('Percent',ascending=False)\n",
    "plt.figure(figsize=(15,22))\n",
    "ax=sns.barplot(x=z['Percent'],y=z['STDNT_MAJOR'],data=z)\n",
    "ax"
   ]
  },
  {
   "cell_type": "code",
   "execution_count": 11,
   "metadata": {},
   "outputs": [
    {
     "data": {
      "text/plain": [
       "<matplotlib.axes._subplots.AxesSubplot at 0x23d95da4a88>"
      ]
     },
     "execution_count": 11,
     "metadata": {},
     "output_type": "execute_result"
    },
    {
     "data": {
      "image/png": "[encoded data removed]",
      "text/plain": [
       "<Figure size 792x1080 with 1 Axes>"
      ]
     },
     "metadata": {
      "needs_background": "light"
     },
     "output_type": "display_data"
    }
   ],
   "source": [
    "x=df.groupby('STDNT_MINOR',as_index=False).agg({'ATTRITION':'sum'}).rename(columns={'ATTRITION':'Left'})\n",
    "y=df.groupby('STDNT_MINOR',as_index=False).agg({'ATTRITION':'count'}).rename(columns={'ATTRITION':'Total_Count'})\n",
    "z=x.merge(y,on='STDNT_MINOR')\n",
    "z['Percent']=z['Left']/z['Total_Count']\n",
    "z=z.sort_values('Percent',ascending=False)\n",
    "plt.figure(figsize=(11,15))\n",
    "ax=sns.barplot(x=z['Percent'],y=z['STDNT_MINOR'],data=z)\n",
    "ax"
   ]
  },
  {
   "cell_type": "code",
   "execution_count": 12,
   "metadata": {},
   "outputs": [
    {
     "data": {
      "text/html": [
       "<div>\n",
       "<style scoped>\n",
       "    .dataframe tbody tr th:only-of-type {\n",
       "        vertical-align: middle;\n",
       "    }\n",
       "\n",
       "    .dataframe tbody tr th {\n",
       "        vertical-align: top;\n",
       "    }\n",
       "\n",
       "    .dataframe thead th {\n",
       "        text-align: right;\n",
       "    }\n",
       "</style>\n",
       "<table border=\"1\" class=\"dataframe\">\n",
       "  <thead>\n",
       "    <tr style=\"text-align: right;\">\n",
       "      <th></th>\n",
       "      <th>FIRST_TERM</th>\n",
       "      <th>Left</th>\n",
       "      <th>Total_Count</th>\n",
       "      <th>Percent</th>\n",
       "    </tr>\n",
       "  </thead>\n",
       "  <tbody>\n",
       "    <tr>\n",
       "      <th>4</th>\n",
       "      <td>200908</td>\n",
       "      <td>156</td>\n",
       "      <td>676</td>\n",
       "      <td>0.230769</td>\n",
       "    </tr>\n",
       "    <tr>\n",
       "      <th>3</th>\n",
       "      <td>200808</td>\n",
       "      <td>132</td>\n",
       "      <td>581</td>\n",
       "      <td>0.227194</td>\n",
       "    </tr>\n",
       "    <tr>\n",
       "      <th>5</th>\n",
       "      <td>201008</td>\n",
       "      <td>140</td>\n",
       "      <td>632</td>\n",
       "      <td>0.221519</td>\n",
       "    </tr>\n",
       "    <tr>\n",
       "      <th>0</th>\n",
       "      <td>200508</td>\n",
       "      <td>106</td>\n",
       "      <td>493</td>\n",
       "      <td>0.215010</td>\n",
       "    </tr>\n",
       "    <tr>\n",
       "      <th>2</th>\n",
       "      <td>200708</td>\n",
       "      <td>111</td>\n",
       "      <td>521</td>\n",
       "      <td>0.213052</td>\n",
       "    </tr>\n",
       "    <tr>\n",
       "      <th>1</th>\n",
       "      <td>200608</td>\n",
       "      <td>78</td>\n",
       "      <td>497</td>\n",
       "      <td>0.156942</td>\n",
       "    </tr>\n",
       "  </tbody>\n",
       "</table>\n",
       "</div>"
      ],
      "text/plain": [
       "   FIRST_TERM  Left  Total_Count   Percent\n",
       "4      200908   156          676  0.230769\n",
       "3      200808   132          581  0.227194\n",
       "5      201008   140          632  0.221519\n",
       "0      200508   106          493  0.215010\n",
       "2      200708   111          521  0.213052\n",
       "1      200608    78          497  0.156942"
      ]
     },
     "metadata": {},
     "output_type": "display_data"
    },
    {
     "data": {
      "text/plain": [
       "<matplotlib.axes._subplots.AxesSubplot at 0x23d95b794c8>"
      ]
     },
     "execution_count": 12,
     "metadata": {},
     "output_type": "execute_result"
    },
    {
     "data": {
      "image/png": "[encoded data removed]",
      "text/plain": [
       "<Figure size 432x288 with 1 Axes>"
      ]
     },
     "metadata": {
      "needs_background": "light"
     },
     "output_type": "display_data"
    }
   ],
   "source": [
    "x=df.groupby('FIRST_TERM',as_index=False).agg({'ATTRITION':'sum'}).rename(columns={'ATTRITION':'Left'})\n",
    "y=df.groupby('FIRST_TERM',as_index=False).agg({'ATTRITION':'count'}).rename(columns={'ATTRITION':'Total_Count'})\n",
    "z=x.merge(y,on='FIRST_TERM')\n",
    "z['Percent']=z['Left']/z['Total_Count']\n",
    "z=z.sort_values('Percent',ascending=False)\n",
    "display(z)\n",
    "ax=sns.barplot(x=z['FIRST_TERM'],y=z['Percent'],data=z)\n",
    "ax"
   ]
  },
  {
   "cell_type": "markdown",
   "metadata": {},
   "source": [
    "In the year 2006, attrition rate was quite low and increased every year since then. Maybe, this has happend because of COST_OF_ATTEND."
   ]
  },
  {
   "cell_type": "code",
   "execution_count": 13,
   "metadata": {},
   "outputs": [
    {
     "data": {
      "text/plain": [
       "<matplotlib.axes._subplots.AxesSubplot at 0x23d9583bd48>"
      ]
     },
     "execution_count": 13,
     "metadata": {},
     "output_type": "execute_result"
    },
    {
     "data": {
      "image/png": "[encoded data removed]",
      "text/plain": [
       "<Figure size 432x288 with 1 Axes>"
      ]
     },
     "metadata": {
      "needs_background": "light"
     },
     "output_type": "display_data"
    }
   ],
   "source": [
    "sns.boxplot(x='FIRST_TERM',y='COST_OF_ATTEND',data=df)"
   ]
  },
  {
   "cell_type": "markdown",
   "metadata": {},
   "source": [
    "As seen above, COST_OF_ATTEND has increased exponentially from year 2005 through 2009. Perhaps, this would have caused increase in attrition. Students might have entered in the first year but could not afford for 2nd year admission. Looks like there are lot of missing values/ zeroes of COST_OF_ATTEND for year 2010."
   ]
  },
  {
   "cell_type": "code",
   "execution_count": 14,
   "metadata": {},
   "outputs": [],
   "source": [
    "arts=['Music',\n",
    "'French',\n",
    "'French with Teacher Cert',\n",
    "'Spanish with Teacher Cert',\n",
    "'Art',\n",
    "'Art Education',\n",
    "'Communication',\n",
    "'English Language/Literature',\n",
    "'English and Secondary Ed',\n",
    "'Music Performance',\n",
    "'Theatre Arts',\n",
    "'Liberal Arts',\n",
    "'Spanish'\n",
    "]\n",
    "business=['Management Information Systems',\n",
    "'Finance',\n",
    "'Marketing',\n",
    "'Pre-Business',\n",
    "'Accounting',\n",
    "'Management',\n",
    "'General Business'\n",
    "]\n",
    "education=['Biology and Secondary Ed',\n",
    "'Earth and Space Science',\n",
    "'Computer Science - Games',\n",
    "'Information Technology',\n",
    "'Criminal Justice',\n",
    "'Psychology',\n",
    "'History and Secondary Ed',\n",
    "'Pre-Engineering/RETP',\n",
    "'Health and Physical Education',\n",
    "'Engineering Studies',\n",
    "'History',\n",
    "'Exercise Science',\n",
    "'Spec Ed: Gen. Curr. - Reading',\n",
    "'Mathematics',\n",
    "'Biology',\n",
    "'Political Science',\n",
    "'Sociology',\n",
    "'Early Childhood Education',\n",
    "'Middle Grades Education',\n",
    "'General Studies/AS',\n",
    "'Applied Computer Science',\n",
    "'Chemistry',\n",
    "'Computer Science - Systems',\n",
    "'Health Science',\n",
    "'Theatre Education',\n",
    "'Mathematics and Secondary Ed',\n",
    "'Music Education',\n",
    "'Chemistry and Secondary Ed',\n",
    "'Geology'\n",
    "]\n",
    "\n",
    "nursing=['Pre-Nursing',\n",
    "'Nursing'\n",
    "]\n",
    "\n",
    "accel=['Early Admission - Accel','Joint Enrollment - Accel']\n",
    "\n",
    "def fun(x):\n",
    "    if x in arts:\n",
    "        return 'arts'\n",
    "    elif x in business:\n",
    "            return 'business'\n",
    "    elif x in education:\n",
    "            return 'education'\n",
    "    elif x in nursing:\n",
    "            return 'nursing'\n",
    "    elif x in accel:\n",
    "        return 'accel'\n",
    "    else:\n",
    "        return x\n",
    "        \n",
    "#a=somefun(accel)\n",
    "df['STDNT_MAJOR']=df['STDNT_MAJOR'].apply(fun)"
   ]
  },
  {
   "cell_type": "code",
   "execution_count": 15,
   "metadata": {},
   "outputs": [
    {
     "data": {
      "text/plain": [
       "array(['Undeclared', 'education', 'arts', 'business', 'nursing', 'accel'],\n",
       "      dtype=object)"
      ]
     },
     "execution_count": 15,
     "metadata": {},
     "output_type": "execute_result"
    }
   ],
   "source": [
    "df['STDNT_MAJOR'].unique()"
   ]
  },
  {
   "cell_type": "markdown",
   "metadata": {},
   "source": [
    "As there were lot of major names, we reduced and substituted main stream names. Same goes for all course names as well."
   ]
  },
  {
   "cell_type": "code",
   "execution_count": 16,
   "metadata": {},
   "outputs": [],
   "source": [
    "df['CORE_COURSE_NAME_1_F']=df['CORE_COURSE_NAME_1_F'].str.split(' ').str[0]\n",
    "df['CORE_COURSE_NAME_2_F']=df['CORE_COURSE_NAME_2_F'].str.split(' ').str[0]\n",
    "df['CORE_COURSE_NAME_3_F']=df['CORE_COURSE_NAME_3_F'].str.split(' ').str[0]\n",
    "df['CORE_COURSE_NAME_4_F']=df['CORE_COURSE_NAME_4_F'].str.split(' ').str[0]\n",
    "df['CORE_COURSE_NAME_5_F']=df['CORE_COURSE_NAME_5_F'].str.split(' ').str[0]\n",
    "df['CORE_COURSE_NAME_6_F']=df['CORE_COURSE_NAME_6_F'].str.split(' ').str[0]\n",
    "\n",
    "df['CORE_COURSE_NAME_1_S']=df['CORE_COURSE_NAME_1_S'].str.split(' ').str[0]\n",
    "df['CORE_COURSE_NAME_2_S']=df['CORE_COURSE_NAME_2_S'].str.split(' ').str[0]\n",
    "df['CORE_COURSE_NAME_3_S']=df['CORE_COURSE_NAME_3_S'].str.split(' ').str[0]\n",
    "df['CORE_COURSE_NAME_4_S']=df['CORE_COURSE_NAME_4_S'].str.split(' ').str[0]\n",
    "df['CORE_COURSE_NAME_5_S']=df['CORE_COURSE_NAME_5_S'].str.split(' ').str[0]\n",
    "df['CORE_COURSE_NAME_6_S']=df['CORE_COURSE_NAME_6_S'].str.split(' ').str[0]\n"
   ]
  },
  {
   "cell_type": "code",
   "execution_count": 17,
   "metadata": {},
   "outputs": [],
   "source": [
    "arts=['ARTH',\n",
    "'MUSC',\n",
    "'THEA'\n",
    "]\n",
    "\n",
    "language=['ARAB',\n",
    "'ENGL',\n",
    "'FREN',\n",
    "'GERM',\n",
    "'JAPN',\n",
    "'LATN',\n",
    "'SPAN'\n",
    "]\n",
    "\n",
    "science=['ASTR',\n",
    "'BIOL',\n",
    "'CHEM',\n",
    "'CPSC',\n",
    "'ENVS',\n",
    "'GEOL',\n",
    "'MATH',\n",
    "'PHYS',\n",
    "'STAT'\n",
    "]\n",
    "\n",
    "so_sci=['ANTH',\n",
    "'COMM',\n",
    "'ECON',\n",
    "'GEOG',\n",
    "'HIST',\n",
    "'LEAD',\n",
    "'POLS',\n",
    "'PSYC',\n",
    "'SOCI',\n",
    "'U.S.'\n",
    "]\n",
    "\n",
    "def fun(x):\n",
    "    if x in arts:\n",
    "        return 'arts'\n",
    "    elif x in language:\n",
    "        return 'language'\n",
    "    elif x in science:\n",
    "        return 'science'\n",
    "    elif x in so_sci:\n",
    "        return 'so_sci'\n",
    "    else:\n",
    "        return x\n",
    "    \n",
    "df['CORE_COURSE_NAME_1_F']=df['CORE_COURSE_NAME_1_F'].apply(fun)\n",
    "df['CORE_COURSE_NAME_2_F']=df['CORE_COURSE_NAME_2_F'].apply(fun)\n",
    "df['CORE_COURSE_NAME_3_F']=df['CORE_COURSE_NAME_3_F'].apply(fun)\n",
    "df['CORE_COURSE_NAME_4_F']=df['CORE_COURSE_NAME_4_F'].apply(fun)\n",
    "df['CORE_COURSE_NAME_5_F']=df['CORE_COURSE_NAME_5_F'].apply(fun)\n",
    "df['CORE_COURSE_NAME_6_F']=df['CORE_COURSE_NAME_6_F'].apply(fun)\n",
    "\n",
    "df['CORE_COURSE_NAME_1_S']=df['CORE_COURSE_NAME_1_S'].apply(fun)\n",
    "df['CORE_COURSE_NAME_2_S']=df['CORE_COURSE_NAME_2_S'].apply(fun)\n",
    "df['CORE_COURSE_NAME_3_S']=df['CORE_COURSE_NAME_3_S'].apply(fun)\n",
    "df['CORE_COURSE_NAME_4_S']=df['CORE_COURSE_NAME_4_S'].apply(fun)\n",
    "df['CORE_COURSE_NAME_5_S']=df['CORE_COURSE_NAME_5_S'].apply(fun)\n",
    "df['CORE_COURSE_NAME_6_S']=df['CORE_COURSE_NAME_6_S'].apply(fun)\n",
    "\n"
   ]
  },
  {
   "cell_type": "code",
   "execution_count": 18,
   "metadata": {},
   "outputs": [
    {
     "name": "stdout",
     "output_type": "stream",
     "text": [
      "['science' 'so_sci' 'language' 'arts' 'ITDS' nan]\n"
     ]
    }
   ],
   "source": [
    "print(df['CORE_COURSE_NAME_1_S'].unique())"
   ]
  },
  {
   "cell_type": "code",
   "execution_count": 19,
   "metadata": {},
   "outputs": [
    {
     "name": "stdout",
     "output_type": "stream",
     "text": [
      "education     1606\n",
      "arts           507\n",
      "Undeclared     460\n",
      "business       448\n",
      "nursing        341\n",
      "accel           38\n",
      "Name: STDNT_MAJOR, dtype: int64\n",
      "______________________________________________\n",
      "  STDNT_MAJOR  Left  Total_Count   Percent\n",
      "5     nursing    84          341  0.246334\n",
      "0  Undeclared   111          460  0.241304\n",
      "3    business   101          448  0.225446\n",
      "4   education   347         1606  0.216065\n",
      "2        arts    80          507  0.157791\n",
      "1       accel     0           38  0.000000\n"
     ]
    },
    {
     "data": {
      "image/png": "[encoded data removed]",
      "text/plain": [
       "<Figure size 360x360 with 1 Axes>"
      ]
     },
     "metadata": {
      "needs_background": "light"
     },
     "output_type": "display_data"
    }
   ],
   "source": [
    "x=df.groupby('STDNT_MAJOR',as_index=False).agg({'ATTRITION':'sum'}).rename(columns={'ATTRITION':'Left'})\n",
    "y=df.groupby('STDNT_MAJOR',as_index=False).agg({'ATTRITION':'count'}).rename(columns={'ATTRITION':'Total_Count'})\n",
    "z=x.merge(y,on='STDNT_MAJOR')\n",
    "z['Percent']=z['Left']/z['Total_Count']\n",
    "z=z.sort_values('Percent',ascending=False)\n",
    "plt.figure(figsize=(5,5))\n",
    "print(df['STDNT_MAJOR'].value_counts())\n",
    "print('______________________________________________')\n",
    "sns.barplot(x=z['Percent'],y=z['STDNT_MAJOR'],data=z)\n",
    "print(z)"
   ]
  },
  {
   "cell_type": "markdown",
   "metadata": {},
   "source": [
    "Students who are opting nursing stream tend to leave more likely. Whereas, who are opting for arts tend to leave less likely. Interestingly, not a single student is leaving who has joint enrolment or early admission. However, total count is 38 of these students."
   ]
  },
  {
   "cell_type": "code",
   "execution_count": 20,
   "metadata": {},
   "outputs": [],
   "source": [
    "a=df[df['ATTRITION']==1]\n",
    "b=df[df['ATTRITION']==0]\n",
    "\n",
    "a1=a.groupby('CORE_COURSE_NAME_1_F').size()\n",
    "a2=a.groupby('CORE_COURSE_NAME_2_F').size()\n",
    "a3=a.groupby('CORE_COURSE_NAME_3_F').size()\n",
    "a4=a.groupby('CORE_COURSE_NAME_4_F').size()\n",
    "a5=a.groupby('CORE_COURSE_NAME_5_F').size()\n",
    "a6=a.groupby('CORE_COURSE_NAME_6_F').size()\n",
    "\n",
    "\n",
    "\n",
    "b1=b.groupby('CORE_COURSE_NAME_1_F').size()\n",
    "b2=b.groupby('CORE_COURSE_NAME_2_F').size()\n",
    "b3=b.groupby('CORE_COURSE_NAME_3_F').size()\n",
    "b4=b.groupby('CORE_COURSE_NAME_4_F').size()\n",
    "b5=b.groupby('CORE_COURSE_NAME_5_F').size()\n",
    "b6=b.groupby('CORE_COURSE_NAME_6_F').size()\n",
    "\n",
    "x=a1+a2+a3+a4+a5+a6\n",
    "x=pd.Series(x,name='count1')\n",
    "x=x.to_frame()\n",
    "x.reset_index(level=0, inplace=True)\n",
    "x.rename(columns={'CORE_COURSE_NAME_1_F':'course_name'},inplace=True)\n",
    "\n",
    "\n",
    "y=b1+b2+b3+b4+b5+b6\n",
    "y=pd.Series(y,name='count2')\n",
    "y=y.to_frame()\n",
    "y.reset_index(level=0, inplace=True)\n",
    "y.rename(columns={'index':'course_name'},inplace=True)\n",
    "\n",
    "\n",
    "\n",
    "z=x.merge(y,on='course_name')\n",
    "z['left_percent']=z['count1']/(z['count1']+z['count2'])\n",
    "z=z.sort_values('left_percent')\n",
    "z1=z.copy()"
   ]
  },
  {
   "cell_type": "code",
   "execution_count": 21,
   "metadata": {},
   "outputs": [],
   "source": [
    "a=df[df['ATTRITION']==1]\n",
    "b=df[df['ATTRITION']==0]\n",
    "\n",
    "a1=a.groupby('CORE_COURSE_NAME_1_S').size()\n",
    "a2=a.groupby('CORE_COURSE_NAME_2_S').size()\n",
    "a3=a.groupby('CORE_COURSE_NAME_3_S').size()\n",
    "a4=a.groupby('CORE_COURSE_NAME_4_S').size()\n",
    "a5=a.groupby('CORE_COURSE_NAME_5_S').size()\n",
    "a6=a.groupby('CORE_COURSE_NAME_6_S').size()\n",
    "add=pd.Series({'arts':0})\n",
    "a6=a6.append(add)\n",
    "\n",
    "b1=b.groupby('CORE_COURSE_NAME_1_S').size()\n",
    "b2=b.groupby('CORE_COURSE_NAME_2_S').size()\n",
    "b3=b.groupby('CORE_COURSE_NAME_3_S').size()\n",
    "b4=b.groupby('CORE_COURSE_NAME_4_S').size()\n",
    "b5=b.groupby('CORE_COURSE_NAME_5_S').size()\n",
    "b6=b.groupby('CORE_COURSE_NAME_6_S').size()\n",
    "\n",
    "x=a1+a2+a3+a4+a5+a6\n",
    "x=pd.Series(x,name='count1')\n",
    "x=x.to_frame()\n",
    "x.reset_index(level=0, inplace=True)\n",
    "x.rename(columns={'index':'course_name'},inplace=True)\n",
    "\n",
    "y=b1+b2+b3+b4+b5+b6\n",
    "y=pd.Series(y,name='count2')\n",
    "y=y.to_frame()\n",
    "y.reset_index(level=0, inplace=True)\n",
    "y.rename(columns={'CORE_COURSE_NAME_1_S':'course_name'},inplace=True)\n",
    "\n",
    "z=x.merge(y,on='course_name')\n",
    "z['left_percent']=z['count1']/(z['count1']+z['count2'])\n",
    "z=z.sort_values('left_percent')\n",
    "z2=z.copy()"
   ]
  },
  {
   "cell_type": "code",
   "execution_count": 22,
   "metadata": {},
   "outputs": [
    {
     "data": {
      "text/plain": [
       "Text(0.5, 1.0, 'second term')"
      ]
     },
     "execution_count": 22,
     "metadata": {},
     "output_type": "execute_result"
    },
    {
     "data": {
      "image/png": "[encoded data removed]",
      "text/plain": [
       "<Figure size 720x360 with 2 Axes>"
      ]
     },
     "metadata": {
      "needs_background": "light"
     },
     "output_type": "display_data"
    }
   ],
   "source": [
    "fig, axes=plt.subplots(1,2,figsize=(10,5),tight_layout=True)\n",
    "sns.barplot(y=z1['left_percent'],x=z1['course_name'],data=z1,ax=axes[0])\n",
    "sns.barplot(y=z2['left_percent'],x=z2['course_name'],data=z2,ax=axes[1])\n",
    "axes[0].set_title('first term')\n",
    "axes[1].set_title('second term')"
   ]
  },
  {
   "cell_type": "markdown",
   "metadata": {},
   "source": [
    "Here, we are comparing total attrition percentage by each couse category across first semester & second semester Students who choose courses that fall under language & arts in first sem tend to have higher attrion than rest of the courses chosen in 1st sem. Whereas, who choose courses that fall under science & social science tend to have higher attrition than rest of the courses chosen in 2nd sem."
   ]
  },
  {
   "cell_type": "code",
   "execution_count": 23,
   "metadata": {},
   "outputs": [
    {
     "data": {
      "text/plain": [
       "<matplotlib.axes._subplots.AxesSubplot at 0x23d95a09d88>"
      ]
     },
     "execution_count": 23,
     "metadata": {},
     "output_type": "execute_result"
    },
    {
     "data": {
      "image/png": "[encoded data removed]",
      "text/plain": [
       "<Figure size 432x288 with 1 Axes>"
      ]
     },
     "metadata": {
      "needs_background": "light"
     },
     "output_type": "display_data"
    }
   ],
   "source": [
    "#df['grade_sem1']\n",
    "#A=5\n",
    "#B=4\n",
    "#C=3\n",
    "#D=2\n",
    "#F=1\n",
    "#NOT REP = 0\n",
    "#INCOMP = 0\n",
    "\n",
    "def fun(x):\n",
    "    if x=='A':\n",
    "        return 5\n",
    "    elif x=='B':\n",
    "        return 4\n",
    "    elif x=='C':\n",
    "        return 3\n",
    "    elif x=='D':\n",
    "        return 2\n",
    "    elif x=='F':\n",
    "        return 1\n",
    "    elif x=='NOT REP' or x=='INCOMPL':\n",
    "        return 0\n",
    "\n",
    "df['g1']=round(df['CORE_COURSE_GRADE_1_F'].apply(fun),1)\n",
    "df['g2']=round(df['CORE_COURSE_GRADE_2_F'].apply(fun),1)\n",
    "df['g3']=round(df['CORE_COURSE_GRADE_3_F'].apply(fun),1)\n",
    "df['g4']=round(df['CORE_COURSE_GRADE_4_F'].apply(fun),1)\n",
    "df['g5']=round(df['CORE_COURSE_GRADE_5_F'].apply(fun),1)\n",
    "df['g6']=round(df['CORE_COURSE_GRADE_6_F'].apply(fun),1)\n",
    "\n",
    "\n",
    "df.loc[(df['g2'].isnull()),'g2']=round(df['g1'],1)\n",
    "df.loc[(df['g3'].isnull()),'g3']=round((df['g1']+df['g2'])/2,1)\n",
    "df.loc[(df['g4'].isnull()),'g4']=round((df['g1']+df['g2']+df['g3'])/3,1)\n",
    "df.loc[(df['g5'].isnull()),'g5']=round((df['g1']+df['g2']+df['g3']+df['g4'])/4,1)\n",
    "df.loc[(df['g6'].isnull()),'g6']=round((df['g1']+df['g2']+df['g3']+df['g4']+df['g5'])/5,1)\n",
    "\n",
    "\n",
    "df['grade_sem1']=(df['g1']+df['g2']+df['g3']+df['g4']+df['g5']+df['g6'])/6\n",
    "\n",
    "\n",
    "\n",
    "\n",
    "#df['grade_sem1'].unique().shape\n",
    "\n",
    "sns.boxplot(x=df['ATTRITION'],y=df['grade_sem1'],data=df)\n",
    "\n"
   ]
  },
  {
   "cell_type": "markdown",
   "metadata": {},
   "source": [
    "All 1st sem courses grades have been aggregated and taken the average. More attrition is seen if grades are low."
   ]
  },
  {
   "cell_type": "code",
   "execution_count": 24,
   "metadata": {},
   "outputs": [],
   "source": [
    "df.drop(columns=['g1','g2','g3','g4','g5','g6'],inplace=True)"
   ]
  },
  {
   "cell_type": "code",
   "execution_count": 25,
   "metadata": {},
   "outputs": [],
   "source": [
    "def fun(x):\n",
    "    if x=='A':\n",
    "        return 5\n",
    "    elif x=='B':\n",
    "        return 4\n",
    "    elif x=='C':\n",
    "        return 3\n",
    "    elif x=='D':\n",
    "        return 2\n",
    "    elif x=='F':\n",
    "        return 1\n",
    "    elif x=='NOT REP' or x=='INCOMPL':\n",
    "        return 0\n",
    "\n",
    "df['g1']=round(df['CORE_COURSE_GRADE_1_S'].apply(fun),1)\n",
    "df['g2']=round(df['CORE_COURSE_GRADE_2_S'].apply(fun),1)\n",
    "df['g3']=round(df['CORE_COURSE_GRADE_3_S'].apply(fun),1)\n",
    "df['g4']=round(df['CORE_COURSE_GRADE_4_S'].apply(fun),1)\n",
    "df['g5']=round(df['CORE_COURSE_GRADE_5_S'].apply(fun),1)\n",
    "df['g6']=round(df['CORE_COURSE_GRADE_6_S'].apply(fun),1)\n",
    "\n",
    "\n",
    "#df['g1'].fillna((df['g1'].mean()),inplace=True)\n",
    "df.loc[(df['g2'].isnull()),'g2']=round(df['g1'],1)\n",
    "df.loc[(df['g3'].isnull()),'g3']=round((df['g1']+df['g2'])/2,1)\n",
    "df.loc[(df['g4'].isnull()),'g4']=round((df['g1']+df['g2']+df['g3'])/3,1)\n",
    "df.loc[(df['g5'].isnull()),'g5']=round((df['g1']+df['g2']+df['g3']+df['g4'])/4,1)\n",
    "df.loc[(df['g6'].isnull()),'g6']=round((df['g1']+df['g2']+df['g3']+df['g4']+df['g5'])/5,1)\n",
    "\n",
    "df['grade_sem2']=(df['g1']+df['g2']+df['g3']+df['g4']+df['g5']+df['g6'])/6\n"
   ]
  },
  {
   "cell_type": "code",
   "execution_count": 26,
   "metadata": {},
   "outputs": [
    {
     "data": {
      "text/plain": [
       "<matplotlib.axes._subplots.AxesSubplot at 0x23d959f7288>"
      ]
     },
     "execution_count": 26,
     "metadata": {},
     "output_type": "execute_result"
    },
    {
     "data": {
      "image/png": "[encoded data removed]",
      "text/plain": [
       "<Figure size 432x288 with 1 Axes>"
      ]
     },
     "metadata": {
      "needs_background": "light"
     },
     "output_type": "display_data"
    }
   ],
   "source": [
    "sns.boxplot(x=df['ATTRITION'],y=df['grade_sem2'],data=df)"
   ]
  },
  {
   "cell_type": "markdown",
   "metadata": {},
   "source": [
    "Overall performace for sem 1 & sem 2 created for ease of analysis"
   ]
  },
  {
   "cell_type": "code",
   "execution_count": 27,
   "metadata": {},
   "outputs": [],
   "source": [
    "df.drop(columns=['g1','g2','g3','g4','g5','g6'],inplace=True)"
   ]
  },
  {
   "cell_type": "code",
   "execution_count": 28,
   "metadata": {},
   "outputs": [
    {
     "data": {
      "text/plain": [
       "<matplotlib.axes._subplots.AxesSubplot at 0x23d959b5788>"
      ]
     },
     "execution_count": 28,
     "metadata": {},
     "output_type": "execute_result"
    },
    {
     "data": {
      "image/png": "[encoded data removed]",
      "text/plain": [
       "<Figure size 720x360 with 3 Axes>"
      ]
     },
     "metadata": {
      "needs_background": "light"
     },
     "output_type": "display_data"
    }
   ],
   "source": [
    "fig, axes=plt.subplots(1,3,figsize=(10,5),tight_layout=True)\n",
    "sns.scatterplot(x=df['grade_sem1'],y=df['grade_sem2'],data=df,ax=axes[0])\n",
    "sns.boxplot(y=df['grade_sem1'],data=df,ax=axes[1])\n",
    "sns.boxplot(y=df['grade_sem2'],data=df,ax=axes[2])\n"
   ]
  },
  {
   "cell_type": "code",
   "execution_count": 29,
   "metadata": {},
   "outputs": [],
   "source": [
    "df.loc[(df['grade_sem2'].isnull()),'grade_sem2']=df['grade_sem1']"
   ]
  },
  {
   "cell_type": "markdown",
   "metadata": {},
   "source": [
    "replacing sem2 missing grades with corresponding sem1 overall grades that we derived, since both seems to be correlated."
   ]
  },
  {
   "cell_type": "code",
   "execution_count": 30,
   "metadata": {},
   "outputs": [
    {
     "data": {
      "text/plain": [
       "<matplotlib.axes._subplots.AxesSubplot at 0x23d944c2788>"
      ]
     },
     "execution_count": 30,
     "metadata": {},
     "output_type": "execute_result"
    },
    {
     "data": {
      "image/png": "[encoded data removed]",
      "text/plain": [
       "<Figure size 720x360 with 2 Axes>"
      ]
     },
     "metadata": {
      "needs_background": "light"
     },
     "output_type": "display_data"
    }
   ],
   "source": [
    "fig, axes=plt.subplots(1,2,figsize=(10,5),tight_layout=True)\n",
    "sns.boxplot(x=df['ATTRITION'],y=df['grade_sem1'],data=df,ax=axes[0])\n",
    "sns.boxplot(x=df['ATTRITION'],y=df['grade_sem2'],data=df,ax=axes[1])\n"
   ]
  },
  {
   "cell_type": "markdown",
   "metadata": {},
   "source": [
    "There is significant difference in attrition rate by grades. Also, average 2nd sem grade points have more skewness whereas less in average of 1st sem"
   ]
  },
  {
   "cell_type": "code",
   "execution_count": 31,
   "metadata": {},
   "outputs": [
    {
     "data": {
      "text/html": [
       "<div>\n",
       "<style scoped>\n",
       "    .dataframe tbody tr th:only-of-type {\n",
       "        vertical-align: middle;\n",
       "    }\n",
       "\n",
       "    .dataframe tbody tr th {\n",
       "        vertical-align: top;\n",
       "    }\n",
       "\n",
       "    .dataframe thead th {\n",
       "        text-align: right;\n",
       "    }\n",
       "</style>\n",
       "<table border=\"1\" class=\"dataframe\">\n",
       "  <thead>\n",
       "    <tr style=\"text-align: right;\">\n",
       "      <th></th>\n",
       "      <th>HOUSING_STS</th>\n",
       "      <th>Left</th>\n",
       "      <th>Total_Count</th>\n",
       "      <th>Percent</th>\n",
       "    </tr>\n",
       "  </thead>\n",
       "  <tbody>\n",
       "    <tr>\n",
       "      <th>1</th>\n",
       "      <td>On Campus</td>\n",
       "      <td>334</td>\n",
       "      <td>1419</td>\n",
       "      <td>0.235377</td>\n",
       "    </tr>\n",
       "    <tr>\n",
       "      <th>0</th>\n",
       "      <td>Off Campus</td>\n",
       "      <td>389</td>\n",
       "      <td>1981</td>\n",
       "      <td>0.196365</td>\n",
       "    </tr>\n",
       "  </tbody>\n",
       "</table>\n",
       "</div>"
      ],
      "text/plain": [
       "  HOUSING_STS  Left  Total_Count   Percent\n",
       "1   On Campus   334         1419  0.235377\n",
       "0  Off Campus   389         1981  0.196365"
      ]
     },
     "execution_count": 31,
     "metadata": {},
     "output_type": "execute_result"
    }
   ],
   "source": [
    "x=df.groupby('HOUSING_STS',as_index=False).agg({'ATTRITION':'sum'}).rename(columns={'ATTRITION':'Left'})\n",
    "y=df.groupby('HOUSING_STS',as_index=False).agg({'ATTRITION':'count'}).rename(columns={'ATTRITION':'Total_Count'})\n",
    "z=x.merge(y,on='HOUSING_STS')\n",
    "z['Percent']=z['Left']/z['Total_Count']\n",
    "z=z.sort_values('Percent',ascending=False)\n",
    "z\n"
   ]
  },
  {
   "cell_type": "markdown",
   "metadata": {},
   "source": [
    "Housing status seems to have little contribution in attrition"
   ]
  },
  {
   "cell_type": "code",
   "execution_count": 32,
   "metadata": {},
   "outputs": [],
   "source": [
    "df['HIGH_SCHL_NAME']=df['HIGH_SCHL_NAME'].str.split(' ').str[1]"
   ]
  },
  {
   "cell_type": "code",
   "execution_count": 33,
   "metadata": {},
   "outputs": [],
   "source": [
    "df.loc[(df['HIGH_SCHL_NAME'].isnull()),'HIGH_SCHL_NAME']=0"
   ]
  },
  {
   "cell_type": "code",
   "execution_count": 34,
   "metadata": {},
   "outputs": [],
   "source": [
    "df['HIGH_SCHL_NAME']=df['HIGH_SCHL_NAME'].map(lambda x: int(x))"
   ]
  },
  {
   "cell_type": "code",
   "execution_count": 35,
   "metadata": {},
   "outputs": [
    {
     "data": {
      "text/plain": [
       "<matplotlib.axes._subplots.AxesSubplot at 0x23d946f4cc8>"
      ]
     },
     "execution_count": 35,
     "metadata": {},
     "output_type": "execute_result"
    },
    {
     "data": {
      "image/png": "[encoded data removed]",
      "text/plain": [
       "<Figure size 432x288 with 1 Axes>"
      ]
     },
     "metadata": {
      "needs_background": "light"
     },
     "output_type": "display_data"
    }
   ],
   "source": [
    "sns.distplot(df['HIGH_SCHL_NAME'])"
   ]
  },
  {
   "cell_type": "markdown",
   "metadata": {},
   "source": [
    "Graph is very skewed towards right; means some schools are dominating in terms of their students going to the university. If we consider this variable as a categorical in the model, then it may cause distortion as very less count we have most of the schools. So, will be dropping this variable."
   ]
  },
  {
   "cell_type": "code",
   "execution_count": 36,
   "metadata": {},
   "outputs": [
    {
     "name": "stdout",
     "output_type": "stream",
     "text": [
      "2.0    1336\n",
      "3.0    1309\n",
      "4.0     226\n",
      "1.0      97\n",
      "Name: FATHER_HI_EDU_CD, dtype: int64\n",
      "3.0    1500\n",
      "2.0    1223\n",
      "4.0     117\n",
      "1.0      71\n",
      "Name: MOTHER_HI_EDU_CD, dtype: int64\n"
     ]
    }
   ],
   "source": [
    "print(df['FATHER_HI_EDU_CD'].value_counts())\n",
    "print(df['MOTHER_HI_EDU_CD'].value_counts())"
   ]
  },
  {
   "cell_type": "code",
   "execution_count": 37,
   "metadata": {},
   "outputs": [
    {
     "data": {
      "text/plain": [
       "<matplotlib.axes._subplots.AxesSubplot at 0x23d95d58388>"
      ]
     },
     "execution_count": 37,
     "metadata": {},
     "output_type": "execute_result"
    },
    {
     "data": {
      "image/png": "[encoded data removed]",
      "text/plain": [
       "<Figure size 432x288 with 1 Axes>"
      ]
     },
     "metadata": {
      "needs_background": "light"
     },
     "output_type": "display_data"
    }
   ],
   "source": [
    "x=df.groupby('FATHER_HI_EDU_DESC',as_index=False).agg({'ATTRITION':'sum'}).rename(columns={'ATTRITION':'Left'})\n",
    "y=df.groupby('FATHER_HI_EDU_DESC',as_index=False).agg({'ATTRITION':'count'}).rename(columns={'ATTRITION':'Total_Count'})\n",
    "z=x.merge(y,on='FATHER_HI_EDU_DESC')\n",
    "z['Percent']=z['Left']/z['Total_Count']\n",
    "z=z.sort_values('Percent',ascending=False)\n",
    "#plt.figure(figsize=(5,5))\n",
    "sns.barplot(x=z['Percent'],y=z['FATHER_HI_EDU_DESC'],data=z)\n"
   ]
  },
  {
   "cell_type": "code",
   "execution_count": 38,
   "metadata": {},
   "outputs": [
    {
     "data": {
      "text/plain": [
       "<matplotlib.axes._subplots.AxesSubplot at 0x23d9452d9c8>"
      ]
     },
     "execution_count": 38,
     "metadata": {},
     "output_type": "execute_result"
    },
    {
     "data": {
      "image/png": "[encoded data removed]",
      "text/plain": [
       "<Figure size 432x288 with 1 Axes>"
      ]
     },
     "metadata": {
      "needs_background": "light"
     },
     "output_type": "display_data"
    }
   ],
   "source": [
    "x=df.groupby('MOTHER_HI_EDU_DESC',as_index=False).agg({'ATTRITION':'sum'}).rename(columns={'ATTRITION':'Left'})\n",
    "y=df.groupby('MOTHER_HI_EDU_DESC',as_index=False).agg({'ATTRITION':'count'}).rename(columns={'ATTRITION':'Total_Count'})\n",
    "z=x.merge(y,on='MOTHER_HI_EDU_DESC')\n",
    "z['Percent']=z['Left']/z['Total_Count']\n",
    "z=z.sort_values('Percent',ascending=False)\n",
    "#plt.figure(figsize=(5,5))\n",
    "sns.barplot(x=z['Percent'],y=z['MOTHER_HI_EDU_DESC'],data=z)\n"
   ]
  },
  {
   "cell_type": "code",
   "execution_count": 39,
   "metadata": {},
   "outputs": [
    {
     "name": "stdout",
     "output_type": "stream",
     "text": [
      "FATHER_HI_EDU_CD    3.0\n",
      "MOTHER_HI_EDU_CD    3.0\n",
      "dtype: float64\n"
     ]
    }
   ],
   "source": [
    "print(df[['FATHER_HI_EDU_CD','MOTHER_HI_EDU_CD']].median())"
   ]
  },
  {
   "cell_type": "code",
   "execution_count": 40,
   "metadata": {},
   "outputs": [
    {
     "data": {
      "text/html": [
       "<div>\n",
       "<style scoped>\n",
       "    .dataframe tbody tr th:only-of-type {\n",
       "        vertical-align: middle;\n",
       "    }\n",
       "\n",
       "    .dataframe tbody tr th {\n",
       "        vertical-align: top;\n",
       "    }\n",
       "\n",
       "    .dataframe thead th {\n",
       "        text-align: right;\n",
       "    }\n",
       "</style>\n",
       "<table border=\"1\" class=\"dataframe\">\n",
       "  <thead>\n",
       "    <tr style=\"text-align: right;\">\n",
       "      <th></th>\n",
       "      <th>MOTHER_HI_EDU_CD</th>\n",
       "    </tr>\n",
       "    <tr>\n",
       "      <th>MOTHER_HI_EDU_DESC</th>\n",
       "      <th></th>\n",
       "    </tr>\n",
       "  </thead>\n",
       "  <tbody>\n",
       "    <tr>\n",
       "      <th>Middle School/Junior High</th>\n",
       "      <td>1.0</td>\n",
       "    </tr>\n",
       "    <tr>\n",
       "      <th>High School</th>\n",
       "      <td>2.0</td>\n",
       "    </tr>\n",
       "    <tr>\n",
       "      <th>College/Beyond</th>\n",
       "      <td>3.0</td>\n",
       "    </tr>\n",
       "    <tr>\n",
       "      <th>Other/Unknown</th>\n",
       "      <td>4.0</td>\n",
       "    </tr>\n",
       "    <tr>\n",
       "      <th>No Information</th>\n",
       "      <td>NaN</td>\n",
       "    </tr>\n",
       "  </tbody>\n",
       "</table>\n",
       "</div>"
      ],
      "text/plain": [
       "                           MOTHER_HI_EDU_CD\n",
       "MOTHER_HI_EDU_DESC                         \n",
       "Middle School/Junior High               1.0\n",
       "High School                             2.0\n",
       "College/Beyond                          3.0\n",
       "Other/Unknown                           4.0\n",
       "No Information                          NaN"
      ]
     },
     "execution_count": 40,
     "metadata": {},
     "output_type": "execute_result"
    }
   ],
   "source": [
    "df.groupby('MOTHER_HI_EDU_DESC').agg({'MOTHER_HI_EDU_CD':'median'}).sort_values('MOTHER_HI_EDU_CD')"
   ]
  },
  {
   "cell_type": "code",
   "execution_count": 41,
   "metadata": {},
   "outputs": [],
   "source": [
    "df.loc[df['MOTHER_HI_EDU_CD'].isnull(),'MOTHER_HI_EDU_CD']=4\n",
    "df.loc[df['FATHER_HI_EDU_CD'].isnull(),'FATHER_HI_EDU_CD']=4"
   ]
  },
  {
   "cell_type": "code",
   "execution_count": 42,
   "metadata": {},
   "outputs": [],
   "source": [
    "df['parents_edu_cd']=round((df['MOTHER_HI_EDU_CD']+df['FATHER_HI_EDU_CD'])/2,0)"
   ]
  },
  {
   "cell_type": "code",
   "execution_count": 43,
   "metadata": {},
   "outputs": [
    {
     "data": {
      "text/plain": [
       "<matplotlib.axes._subplots.AxesSubplot at 0x23d95d583c8>"
      ]
     },
     "execution_count": 43,
     "metadata": {},
     "output_type": "execute_result"
    },
    {
     "data": {
      "image/png": "[encoded data removed]",
      "text/plain": [
       "<Figure size 432x288 with 1 Axes>"
      ]
     },
     "metadata": {
      "needs_background": "light"
     },
     "output_type": "display_data"
    }
   ],
   "source": [
    "x=df.groupby('parents_edu_cd',as_index=False).agg({'ATTRITION':'sum'}).rename(columns={'ATTRITION':'Left'})\n",
    "y=df.groupby('parents_edu_cd',as_index=False).agg({'ATTRITION':'count'}).rename(columns={'ATTRITION':'Total_Count'})\n",
    "z=x.merge(y,on='parents_edu_cd')\n",
    "z['Percent']=z['Left']/z['Total_Count']\n",
    "z=z.sort_values('Percent',ascending=False)\n",
    "#plt.figure(figsize=(5,5))\n",
    "sns.barplot(y=z['Percent'],x=z['parents_edu_cd'],data=z)\n"
   ]
  },
  {
   "cell_type": "code",
   "execution_count": 44,
   "metadata": {},
   "outputs": [],
   "source": [
    "def fun(x):\n",
    "    if x==1:\n",
    "        return 'Middle School/Junior High'\n",
    "    elif x==2:\n",
    "        return 'High School'\n",
    "    elif x==3:\n",
    "        return 'College/Beyond'\n",
    "    else:\n",
    "        return 'Unknown'\n",
    "df['parents_edu_desc']=df['parents_edu_cd'].apply(fun)"
   ]
  },
  {
   "cell_type": "code",
   "execution_count": 45,
   "metadata": {},
   "outputs": [
    {
     "data": {
      "text/plain": [
       "<matplotlib.axes._subplots.AxesSubplot at 0x23d92a79548>"
      ]
     },
     "execution_count": 45,
     "metadata": {},
     "output_type": "execute_result"
    },
    {
     "data": {
      "image/png": "[encoded data removed]",
      "text/plain": [
       "<Figure size 432x288 with 1 Axes>"
      ]
     },
     "metadata": {
      "needs_background": "light"
     },
     "output_type": "display_data"
    }
   ],
   "source": [
    "x=df.groupby('parents_edu_desc',as_index=False).agg({'ATTRITION':'sum'}).rename(columns={'ATTRITION':'Left'})\n",
    "y=df.groupby('parents_edu_desc',as_index=False).agg({'ATTRITION':'count'}).rename(columns={'ATTRITION':'Total_Count'})\n",
    "z=x.merge(y,on='parents_edu_desc')\n",
    "z['Percent']=z['Left']/z['Total_Count']\n",
    "z=z.sort_values('Percent',ascending=False)\n",
    "\n",
    "sns.barplot(x=z['Percent'],y=z['parents_edu_desc'],data=z)\n"
   ]
  },
  {
   "cell_type": "markdown",
   "metadata": {},
   "source": [
    "Speculating - Parents education impacts family contribution towards course fees which impacts early attrion. Will validate later as family contribution variable needs to be cleaned."
   ]
  },
  {
   "cell_type": "code",
   "execution_count": 46,
   "metadata": {},
   "outputs": [
    {
     "data": {
      "text/plain": [
       "Bachelors           3384\n",
       "Associate             12\n",
       "Career Associate       4\n",
       "Name: DEGREE_GROUP_DESC, dtype: int64"
      ]
     },
     "execution_count": 46,
     "metadata": {},
     "output_type": "execute_result"
    }
   ],
   "source": [
    "df['DEGREE_GROUP_DESC'].value_counts()"
   ]
  },
  {
   "cell_type": "markdown",
   "metadata": {},
   "source": [
    "Bachelors are dominating in the university. Will need to drop the variable."
   ]
  },
  {
   "cell_type": "code",
   "execution_count": 47,
   "metadata": {},
   "outputs": [],
   "source": [
    "#dropping some variables which were transformed to derived variables.\n",
    "\n",
    "drp=['CORE_COURSE_GRADE_1_F',\n",
    "'CORE_COURSE_GRADE_2_F',\n",
    "'CORE_COURSE_GRADE_3_F',\n",
    "'CORE_COURSE_GRADE_4_F',\n",
    "'CORE_COURSE_GRADE_5_F',\n",
    "'CORE_COURSE_GRADE_6_F',\n",
    "'CORE_COURSE_GRADE_1_S',\n",
    "'CORE_COURSE_GRADE_2_S',\n",
    "'CORE_COURSE_GRADE_3_S',\n",
    "'CORE_COURSE_GRADE_4_S',\n",
    "'CORE_COURSE_GRADE_5_S',\n",
    "'CORE_COURSE_GRADE_6_S',\n",
    "'FATHER_HI_EDU_CD',\n",
    "'FATHER_HI_EDU_DESC',\n",
    "'MOTHER_HI_EDU_CD',\n",
    "'MOTHER_HI_EDU_DESC'\n",
    "]\n",
    "\n",
    "df.drop(columns=drp,inplace=True)"
   ]
  },
  {
   "cell_type": "markdown",
   "metadata": {},
   "source": [
    "### **Numerical Variables**"
   ]
  },
  {
   "cell_type": "code",
   "execution_count": 48,
   "metadata": {},
   "outputs": [
    {
     "data": {
      "image/png": "[encoded data removed]",
      "text/plain": [
       "<Figure size 1296x1296 with 2 Axes>"
      ]
     },
     "metadata": {
      "needs_background": "light"
     },
     "output_type": "display_data"
    }
   ],
   "source": [
    "f,ax = plt.subplots(figsize=(18, 18))\n",
    "sns.heatmap(df.corr(), annot=True, linewidths=.5, fmt= '.1f',ax=ax)\n",
    "plt.show()"
   ]
  },
  {
   "cell_type": "markdown",
   "metadata": {},
   "source": [
    "1. STDNT_TEST_ENTRANCE1 has 2294 missing values. And, there is strong relationship between entrance 2 & entrance COMB. So, will drop entrance 1 & 2 and will consider only **entrance comb**.\n",
    "2. Second term column has only year so let's drop it and keep only **first term** column.\n",
    "3. There is little relationship between 1st term earned hrs & attempt hrs), also between 2nd term earned hrs & attemp hrs.\n",
    "4. Financial indicators look connected to each other.\n",
    "5. Grades of both semester are correlated with HIGH_SCHL_GPA & their respective Semesters earned hrs. Moreover, sem1 & sem2 grades also have relationship.\n",
    "\n"
   ]
  },
  {
   "cell_type": "markdown",
   "metadata": {},
   "source": [
    "###### Checking out relation of all numerical variables with target variable."
   ]
  },
  {
   "cell_type": "code",
   "execution_count": 49,
   "metadata": {},
   "outputs": [
    {
     "data": {
      "text/plain": [
       "Text(0.5, 1.0, 'UNMET_NEED')"
      ]
     },
     "execution_count": 49,
     "metadata": {},
     "output_type": "execute_result"
    },
    {
     "data": {
      "image/png": "[encoded data removed]",
      "text/plain": [
       "<Figure size 1440x792 with 10 Axes>"
      ]
     },
     "metadata": {
      "needs_background": "light"
     },
     "output_type": "display_data"
    }
   ],
   "source": [
    "fig, axes = plt.subplots(2,5,figsize=(20, 11),sharex=True,tight_layout=True)\n",
    "sns.boxplot(x='ATTRITION',y='STDNT_TEST_ENTRANCE_COMB',data=df,ax=axes[0,0])\n",
    "sns.boxplot(x='ATTRITION',y='DISTANCE_FROM_HOME',data=df,orient='v',ax=axes[0,1])\n",
    "sns.boxplot(x='ATTRITION',y='HIGH_SCHL_GPA',data=df,orient='v',ax=axes[0,2])\n",
    "sns.boxplot(x='ATTRITION',y='FIRST_TERM_ATTEMPT_HRS',data=df,orient='v',ax=axes[0,3])\n",
    "sns.boxplot(x='ATTRITION',y='FIRST_TERM_EARNED_HRS',data=df,orient='v',ax=axes[0,4])\n",
    "sns.boxplot(x='ATTRITION',y='SECOND_TERM_ATTEMPT_HRS',data=df,orient='v',ax=axes[1,0])\n",
    "sns.boxplot(x='ATTRITION',y='SECOND_TERM_EARNED_HRS',data=df,orient='v',ax=axes[1,1])\n",
    "sns.boxplot(x='ATTRITION',y='COST_OF_ATTEND',data=df,orient='v',ax=axes[1,2])\n",
    "sns.boxplot(x='ATTRITION',y='EST_FAM_CONTRIBUTION',data=df,orient='v',ax=axes[1,3])\n",
    "sns.boxplot(x='ATTRITION',y='UNMET_NEED',data=df,orient='v',ax=axes[1,4])\n",
    "#sns.boxplot(x='ATTRITION',y='GROSS_FIN_NEED',data=df,orient='v',ax=axes[1,3])\n",
    "\n",
    "\n",
    "plt.setp(axes[:],xlabel=' ')\n",
    "plt.setp(axes[:],ylabel=' ')\n",
    "axes[0,0].set_title('STDNT_TEST_ENTRANCE_COMB')\n",
    "axes[0,1].set_title('DISTANCE_FROM_HOME')\n",
    "axes[0,2].set_title('HIGH_SCHL_GPA')\n",
    "axes[0,3].set_title('FIRST_TERM_ATTEMPT_HRS')\n",
    "axes[0,4].set_title('FIRST_TERM_EARNED_HRS')\n",
    "axes[1,0].set_title('SECOND_TERM_ATTEMPT_HRS')\n",
    "axes[1,1].set_title('SECOND_TERM_EARNED_HRS')\n",
    "axes[1,2].set_title('COST_OF_ATTEND')\n",
    "axes[1,3].set_title('EST_FAM_CONTRIBUTION')\n",
    "axes[1,4].set_title('UNMET_NEED')\n",
    "\n"
   ]
  },
  {
   "cell_type": "markdown",
   "metadata": {},
   "source": [
    "    1. STDNT_TEST_ENTRANCE_COMB - doesn't seem to be significant.\n",
    "    2. DISTANCE_FROM_HOME       - data is skewed and lot of outliers\n",
    "    3. HIGH_SCHL_GPA            - little significance\n",
    "    4. FIRST_TERM_ATTEMPT_HRS   - doesn't seem to be significant.\n",
    "    5. FIRST_TERM_EARNED_HRS    - variable has some contribution towards attirtion rate.\n",
    "    6. SECOND_TERM_ATTEMPT_HRS  - as this is correlated with SECOND_TERM_EARNED_HRS; we will discard SECOND_TERM_ATTEMPT_HRS and keep SECOND_TERM_EARNED_HRS. Because, SECOND_TERM_ATTEMPT_HRS has more outliers than SECOND_TERM_EARNED_HRS.\n",
    "    7. COST_OF_ATTEND           - 50% data has very low cost which cant be true. Need to analyse more.\n",
    "    8. EST_FAM_CONTRIBUTION     - Lot of outliers. Data cleaning is required.\n",
    "    9. UNMET_NEED               - Lot of outliers and negative values. Data cleaning is required."
   ]
  },
  {
   "cell_type": "code",
   "execution_count": 50,
   "metadata": {},
   "outputs": [
    {
     "data": {
      "text/html": [
       "<div>\n",
       "<style scoped>\n",
       "    .dataframe tbody tr th:only-of-type {\n",
       "        vertical-align: middle;\n",
       "    }\n",
       "\n",
       "    .dataframe tbody tr th {\n",
       "        vertical-align: top;\n",
       "    }\n",
       "\n",
       "    .dataframe thead th {\n",
       "        text-align: right;\n",
       "    }\n",
       "</style>\n",
       "<table border=\"1\" class=\"dataframe\">\n",
       "  <thead>\n",
       "    <tr style=\"text-align: right;\">\n",
       "      <th></th>\n",
       "      <th>count</th>\n",
       "      <th>mean</th>\n",
       "      <th>std</th>\n",
       "      <th>min</th>\n",
       "      <th>25%</th>\n",
       "      <th>50%</th>\n",
       "      <th>75%</th>\n",
       "      <th>max</th>\n",
       "    </tr>\n",
       "    <tr>\n",
       "      <th>ATTRITION</th>\n",
       "      <th></th>\n",
       "      <th></th>\n",
       "      <th></th>\n",
       "      <th></th>\n",
       "      <th></th>\n",
       "      <th></th>\n",
       "      <th></th>\n",
       "      <th></th>\n",
       "    </tr>\n",
       "  </thead>\n",
       "  <tbody>\n",
       "    <tr>\n",
       "      <th>0</th>\n",
       "      <td>2662.0</td>\n",
       "      <td>96.506762</td>\n",
       "      <td>235.583832</td>\n",
       "      <td>0.0</td>\n",
       "      <td>69.0</td>\n",
       "      <td>69.0</td>\n",
       "      <td>138.0</td>\n",
       "      <td>5932.0</td>\n",
       "    </tr>\n",
       "    <tr>\n",
       "      <th>1</th>\n",
       "      <td>713.0</td>\n",
       "      <td>112.214586</td>\n",
       "      <td>233.494713</td>\n",
       "      <td>0.0</td>\n",
       "      <td>69.0</td>\n",
       "      <td>69.0</td>\n",
       "      <td>138.0</td>\n",
       "      <td>4501.0</td>\n",
       "    </tr>\n",
       "  </tbody>\n",
       "</table>\n",
       "</div>"
      ],
      "text/plain": [
       "            count        mean         std  min   25%   50%    75%     max\n",
       "ATTRITION                                                                \n",
       "0          2662.0   96.506762  235.583832  0.0  69.0  69.0  138.0  5932.0\n",
       "1           713.0  112.214586  233.494713  0.0  69.0  69.0  138.0  4501.0"
      ]
     },
     "execution_count": 50,
     "metadata": {},
     "output_type": "execute_result"
    }
   ],
   "source": [
    "df.groupby('ATTRITION')['DISTANCE_FROM_HOME'].describe()"
   ]
  },
  {
   "cell_type": "code",
   "execution_count": 51,
   "metadata": {},
   "outputs": [
    {
     "data": {
      "text/html": [
       "<div>\n",
       "<style scoped>\n",
       "    .dataframe tbody tr th:only-of-type {\n",
       "        vertical-align: middle;\n",
       "    }\n",
       "\n",
       "    .dataframe tbody tr th {\n",
       "        vertical-align: top;\n",
       "    }\n",
       "\n",
       "    .dataframe thead th {\n",
       "        text-align: right;\n",
       "    }\n",
       "</style>\n",
       "<table border=\"1\" class=\"dataframe\">\n",
       "  <thead>\n",
       "    <tr style=\"text-align: right;\">\n",
       "      <th></th>\n",
       "      <th>DISTANCE_FROM_HOME</th>\n",
       "    </tr>\n",
       "  </thead>\n",
       "  <tbody>\n",
       "    <tr>\n",
       "      <th>921</th>\n",
       "      <td>237.0</td>\n",
       "    </tr>\n",
       "  </tbody>\n",
       "</table>\n",
       "</div>"
      ],
      "text/plain": [
       "     DISTANCE_FROM_HOME\n",
       "921               237.0"
      ]
     },
     "execution_count": 51,
     "metadata": {},
     "output_type": "execute_result"
    }
   ],
   "source": [
    "iqr=df['DISTANCE_FROM_HOME'].quantile(.75)-df['DISTANCE_FROM_HOME'].quantile(.25)\n",
    "q3=df['DISTANCE_FROM_HOME'].quantile(.75)\n",
    "edge=q3+(1.5*iqr)\n",
    "df[df['DISTANCE_FROM_HOME']<edge][['DISTANCE_FROM_HOME']].sort_values('DISTANCE_FROM_HOME',ascending=False).head(1)\n"
   ]
  },
  {
   "cell_type": "code",
   "execution_count": 52,
   "metadata": {},
   "outputs": [],
   "source": [
    "df.loc[df['DISTANCE_FROM_HOME']>237,'DISTANCE_FROM_HOME']=237"
   ]
  },
  {
   "cell_type": "code",
   "execution_count": 53,
   "metadata": {},
   "outputs": [
    {
     "data": {
      "text/plain": [
       "<matplotlib.axes._subplots.AxesSubplot at 0x23d979202c8>"
      ]
     },
     "execution_count": 53,
     "metadata": {},
     "output_type": "execute_result"
    },
    {
     "data": {
      "image/png": "[encoded data removed]",
      "text/plain": [
       "<Figure size 432x288 with 1 Axes>"
      ]
     },
     "metadata": {
      "needs_background": "light"
     },
     "output_type": "display_data"
    }
   ],
   "source": [
    "sns.boxplot(x='ATTRITION',y='DISTANCE_FROM_HOME',data=df)"
   ]
  },
  {
   "cell_type": "markdown",
   "metadata": {},
   "source": [
    "DISTANCE_FROM_HOME doesn't turn out to be significant."
   ]
  },
  {
   "cell_type": "code",
   "execution_count": 54,
   "metadata": {},
   "outputs": [
    {
     "name": "stdout",
     "output_type": "stream",
     "text": [
      "1679\n",
      "2112\n",
      "1805\n",
      "2237\n"
     ]
    }
   ],
   "source": [
    "print(len(df[df['COST_OF_ATTEND']==0]))\n",
    "print(len(df[df['EST_FAM_CONTRIBUTION']==0]))\n",
    "print(len(df[df['UNMET_NEED']==0]))\n",
    "print(len(df[df['GROSS_FIN_NEED']==0]))"
   ]
  },
  {
   "cell_type": "markdown",
   "metadata": {},
   "source": [
    "In the provided spreadsheet these columns are filled with dash '-' whereas python has taken it as 0 while loading the dataset. Implicitly,these could be missing values."
   ]
  },
  {
   "cell_type": "markdown",
   "metadata": {},
   "source": [
    "# Data Preparation"
   ]
  },
  {
   "cell_type": "markdown",
   "metadata": {},
   "source": [
    "#### **Replaceing 0 with null values for financial indicators and replacing negative values with 0 for UNMET_NEED.**"
   ]
  },
  {
   "cell_type": "code",
   "execution_count": 55,
   "metadata": {},
   "outputs": [],
   "source": [
    "def fun(x):\n",
    "    if x==0:\n",
    "        return None\n",
    "    elif x<0:\n",
    "        return 0\n",
    "    else:\n",
    "        return x\n",
    "\n",
    "df['GROSS_FIN_NEED']=df['GROSS_FIN_NEED'].apply(fun)\n",
    "df['UNMET_NEED']=df['UNMET_NEED'].apply(fun)\n",
    "df['COST_OF_ATTEND']=df['COST_OF_ATTEND'].apply(fun)\n",
    "df['EST_FAM_CONTRIBUTION']=df['EST_FAM_CONTRIBUTION'].apply(fun)\n"
   ]
  },
  {
   "cell_type": "code",
   "execution_count": 56,
   "metadata": {},
   "outputs": [
    {
     "name": "stdout",
     "output_type": "stream",
     "text": [
      "0\n",
      "0\n",
      "558\n",
      "0\n"
     ]
    }
   ],
   "source": [
    "print(len(df[df['COST_OF_ATTEND']==0]))\n",
    "print(len(df[df['EST_FAM_CONTRIBUTION']==0]))\n",
    "print(len(df[df['UNMET_NEED']==0]))\n",
    "print(len(df[df['GROSS_FIN_NEED']==0]))\n"
   ]
  },
  {
   "cell_type": "markdown",
   "metadata": {},
   "source": [
    "We have cleaned some financial indicators. Now let's take a loog again on visuals."
   ]
  },
  {
   "cell_type": "code",
   "execution_count": 57,
   "metadata": {},
   "outputs": [
    {
     "data": {
      "text/plain": [
       "<matplotlib.axes._subplots.AxesSubplot at 0x23d97a0e048>"
      ]
     },
     "execution_count": 57,
     "metadata": {},
     "output_type": "execute_result"
    },
    {
     "data": {
      "image/png": "[encoded data removed]",
      "text/plain": [
       "<Figure size 1080x432 with 3 Axes>"
      ]
     },
     "metadata": {
      "needs_background": "light"
     },
     "output_type": "display_data"
    }
   ],
   "source": [
    "fig, axes = plt.subplots(1,3,figsize=(15, 6),sharex=True,tight_layout=True)\n",
    "sns.boxplot(x='ATTRITION',y='COST_OF_ATTEND',data=df,orient='v',ax=axes[0])\n",
    "sns.boxplot(x='ATTRITION',y='EST_FAM_CONTRIBUTION',data=df,orient='v',ax=axes[1])\n",
    "sns.boxplot(x='ATTRITION',y='UNMET_NEED',data=df,orient='v',ax=axes[2])\n"
   ]
  },
  {
   "cell_type": "markdown",
   "metadata": {},
   "source": [
    "#### **Anomaly detection and dealing with outliers**"
   ]
  },
  {
   "cell_type": "code",
   "execution_count": 58,
   "metadata": {},
   "outputs": [
    {
     "name": "stdout",
     "output_type": "stream",
     "text": [
      "64\n",
      "5\n",
      "0\n",
      "330\n",
      "0\n",
      "0\n"
     ]
    }
   ],
   "source": [
    "print(len(df[(df['COST_OF_ATTEND'].isnull())&((df['EST_FAM_CONTRIBUTION'].notnull()))]))\n",
    "print(len(df[(df['COST_OF_ATTEND'].isnull())&((df['UNMET_NEED'].notnull()))]))\n",
    "print(len(df[(df['COST_OF_ATTEND'].isnull())&((df['GROSS_FIN_NEED'].notnull()))]))\n",
    "print(len(df[(df['COST_OF_ATTEND']<df['EST_FAM_CONTRIBUTION'])]))\n",
    "print(len(df[(df['COST_OF_ATTEND']<df['UNMET_NEED'])]))\n",
    "print(len(df[(df['COST_OF_ATTEND']<df['GROSS_FIN_NEED'])]))\n"
   ]
  },
  {
   "cell_type": "code",
   "execution_count": 59,
   "metadata": {},
   "outputs": [],
   "source": [
    "df.loc[(df['COST_OF_ATTEND']<df['EST_FAM_CONTRIBUTION']),'EST_FAM_CONTRIBUTION']=df['COST_OF_ATTEND']\n",
    "df.loc[(df['COST_OF_ATTEND'].isnull()),'EST_FAM_CONTRIBUTION']=None\n",
    "df.loc[(df['COST_OF_ATTEND'].isnull()),'UNMET_NEED']=None\n"
   ]
  },
  {
   "cell_type": "code",
   "execution_count": 60,
   "metadata": {},
   "outputs": [
    {
     "name": "stdout",
     "output_type": "stream",
     "text": [
      "0\n",
      "0\n"
     ]
    }
   ],
   "source": [
    "print(len(df[(df['EST_FAM_CONTRIBUTION']+df['UNMET_NEED'])>df['COST_OF_ATTEND']]))\n",
    "print(len(df[(df['EST_FAM_CONTRIBUTION']+df['GROSS_FIN_NEED'])>df['COST_OF_ATTEND']]))\n"
   ]
  },
  {
   "cell_type": "code",
   "execution_count": 61,
   "metadata": {},
   "outputs": [
    {
     "name": "stdout",
     "output_type": "stream",
     "text": [
      "874\n",
      "863\n",
      "11\n"
     ]
    }
   ],
   "source": [
    "print(len(df[df['COST_OF_ATTEND']==df['GROSS_FIN_NEED']+df['EST_FAM_CONTRIBUTION']]))\n",
    "print(len(df[(df['EST_FAM_CONTRIBUTION'].notnull())&(df['GROSS_FIN_NEED'].notnull())&(df['UNMET_NEED'].notnull())]))\n",
    "print(len(df[(df['GROSS_FIN_NEED']<df['COST_OF_ATTEND'])&(df['EST_FAM_CONTRIBUTION'].isnull())&(df['GROSS_FIN_NEED'].notnull())]))\n"
   ]
  },
  {
   "cell_type": "markdown",
   "metadata": {},
   "source": [
    "1. Difference is 874 - 863 = 11\n",
    "2. Let's apply this formula to substitue 11 NULL VALUES of EST_FAM_CONTRIBUTION"
   ]
  },
  {
   "cell_type": "code",
   "execution_count": 62,
   "metadata": {},
   "outputs": [],
   "source": [
    "df.loc[(df['GROSS_FIN_NEED']<=df['COST_OF_ATTEND'])&(df['EST_FAM_CONTRIBUTION'].isnull())&(df['GROSS_FIN_NEED'].notnull()),'EST_FAM_CONTRIBUTION']=df['COST_OF_ATTEND']-df['GROSS_FIN_NEED']"
   ]
  },
  {
   "cell_type": "code",
   "execution_count": 63,
   "metadata": {},
   "outputs": [],
   "source": [
    "df.loc[(df['COST_OF_ATTEND']>=df['EST_FAM_CONTRIBUTION'])&(df['COST_OF_ATTEND'].notnull())&(df['EST_FAM_CONTRIBUTION'].notnull())&(df['GROSS_FIN_NEED'].isnull()),'GROSS_FIN_NEED']=df['COST_OF_ATTEND']-df['EST_FAM_CONTRIBUTION']"
   ]
  },
  {
   "cell_type": "code",
   "execution_count": 64,
   "metadata": {},
   "outputs": [],
   "source": [
    "df.loc[(df['EST_FAM_CONTRIBUTION']==df['COST_OF_ATTEND'])&(df['UNMET_NEED'].isnull()),'UNMET_NEED']=0"
   ]
  },
  {
   "cell_type": "code",
   "execution_count": 65,
   "metadata": {},
   "outputs": [
    {
     "data": {
      "text/plain": [
       "0"
      ]
     },
     "execution_count": 65,
     "metadata": {},
     "output_type": "execute_result"
    }
   ],
   "source": [
    "len(df.loc[(df['GROSS_FIN_NEED']==df['COST_OF_ATTEND'])&(df['EST_FAM_CONTRIBUTION'].isnull())])"
   ]
  },
  {
   "cell_type": "code",
   "execution_count": 66,
   "metadata": {},
   "outputs": [
    {
     "data": {
      "text/plain": [
       "0"
      ]
     },
     "execution_count": 66,
     "metadata": {},
     "output_type": "execute_result"
    }
   ],
   "source": [
    "len(df.loc[(df['EST_FAM_CONTRIBUTION']==df['COST_OF_ATTEND'])&(df['UNMET_NEED']>0)])"
   ]
  },
  {
   "cell_type": "code",
   "execution_count": 67,
   "metadata": {},
   "outputs": [
    {
     "data": {
      "text/plain": [
       "0"
      ]
     },
     "execution_count": 67,
     "metadata": {},
     "output_type": "execute_result"
    }
   ],
   "source": [
    "len(df[(df['GROSS_FIN_NEED']<df['COST_OF_ATTEND'])&(df['EST_FAM_CONTRIBUTION'].isnull())&(df['GROSS_FIN_NEED'].notnull())])"
   ]
  },
  {
   "cell_type": "code",
   "execution_count": 68,
   "metadata": {},
   "outputs": [
    {
     "data": {
      "text/plain": [
       "<matplotlib.axes._subplots.AxesSubplot at 0x23d97b95408>"
      ]
     },
     "execution_count": 68,
     "metadata": {},
     "output_type": "execute_result"
    },
    {
     "data": {
      "image/png": "[encoded data removed]",
      "text/plain": [
       "<Figure size 1080x432 with 3 Axes>"
      ]
     },
     "metadata": {
      "needs_background": "light"
     },
     "output_type": "display_data"
    }
   ],
   "source": [
    "fig, axes = plt.subplots(1,3,figsize=(15, 6),sharex=True,tight_layout=True)\n",
    "sns.boxplot(x='ATTRITION',y='COST_OF_ATTEND',data=df,orient='v',ax=axes[0])\n",
    "sns.boxplot(x='ATTRITION',y='EST_FAM_CONTRIBUTION',data=df,orient='v',ax=axes[1])\n",
    "sns.boxplot(x='ATTRITION',y='UNMET_NEED',data=df,orient='v',ax=axes[2])\n"
   ]
  },
  {
   "cell_type": "code",
   "execution_count": 69,
   "metadata": {},
   "outputs": [
    {
     "data": {
      "text/html": [
       "<div>\n",
       "<style scoped>\n",
       "    .dataframe tbody tr th:only-of-type {\n",
       "        vertical-align: middle;\n",
       "    }\n",
       "\n",
       "    .dataframe tbody tr th {\n",
       "        vertical-align: top;\n",
       "    }\n",
       "\n",
       "    .dataframe thead th {\n",
       "        text-align: right;\n",
       "    }\n",
       "</style>\n",
       "<table border=\"1\" class=\"dataframe\">\n",
       "  <thead>\n",
       "    <tr style=\"text-align: right;\">\n",
       "      <th></th>\n",
       "      <th>EST_FAM_CONTRIBUTION</th>\n",
       "      <th>COST_OF_ATTEND</th>\n",
       "      <th>UNMET_NEED</th>\n",
       "    </tr>\n",
       "  </thead>\n",
       "  <tbody>\n",
       "    <tr>\n",
       "      <th>3214</th>\n",
       "      <td>88200.0</td>\n",
       "      <td>1804860.0</td>\n",
       "      <td>1632660.0</td>\n",
       "    </tr>\n",
       "    <tr>\n",
       "      <th>2865</th>\n",
       "      <td>0.0</td>\n",
       "      <td>2124900.0</td>\n",
       "      <td>1478400.0</td>\n",
       "    </tr>\n",
       "    <tr>\n",
       "      <th>3353</th>\n",
       "      <td>137220.0</td>\n",
       "      <td>1862040.0</td>\n",
       "      <td>1414320.0</td>\n",
       "    </tr>\n",
       "    <tr>\n",
       "      <th>100</th>\n",
       "      <td>0.0</td>\n",
       "      <td>1504980.0</td>\n",
       "      <td>1216980.0</td>\n",
       "    </tr>\n",
       "  </tbody>\n",
       "</table>\n",
       "</div>"
      ],
      "text/plain": [
       "      EST_FAM_CONTRIBUTION  COST_OF_ATTEND  UNMET_NEED\n",
       "3214               88200.0       1804860.0   1632660.0\n",
       "2865                   0.0       2124900.0   1478400.0\n",
       "3353              137220.0       1862040.0   1414320.0\n",
       "100                    0.0       1504980.0   1216980.0"
      ]
     },
     "execution_count": 69,
     "metadata": {},
     "output_type": "execute_result"
    }
   ],
   "source": [
    "iqr=df['UNMET_NEED'].quantile(.75)-df['UNMET_NEED'].quantile(.25)\n",
    "q3=df['UNMET_NEED'].quantile(.75)\n",
    "edge=q3+(1.5*iqr)\n",
    "df[df['UNMET_NEED']>edge][['EST_FAM_CONTRIBUTION','COST_OF_ATTEND','UNMET_NEED']].sort_values('UNMET_NEED',ascending=False)\n"
   ]
  },
  {
   "cell_type": "markdown",
   "metadata": {},
   "source": [
    "UNMET_NEED has valid outliers"
   ]
  },
  {
   "cell_type": "code",
   "execution_count": 70,
   "metadata": {},
   "outputs": [
    {
     "data": {
      "text/plain": [
       "0"
      ]
     },
     "execution_count": 70,
     "metadata": {},
     "output_type": "execute_result"
    }
   ],
   "source": [
    "len(df[(df['COST_OF_ATTEND']-df['EST_FAM_CONTRIBUTION'])<df['UNMET_NEED']])"
   ]
  },
  {
   "cell_type": "code",
   "execution_count": 71,
   "metadata": {},
   "outputs": [
    {
     "data": {
      "text/plain": [
       "<matplotlib.axes._subplots.AxesSubplot at 0x23d98290608>"
      ]
     },
     "execution_count": 71,
     "metadata": {},
     "output_type": "execute_result"
    },
    {
     "data": {
      "image/png": "[encoded data removed]",
      "text/plain": [
       "<Figure size 432x288 with 1 Axes>"
      ]
     },
     "metadata": {
      "needs_background": "light"
     },
     "output_type": "display_data"
    }
   ],
   "source": [
    "sns.boxplot(y='COST_OF_ATTEND',data=df,orient='v')"
   ]
  },
  {
   "cell_type": "code",
   "execution_count": 72,
   "metadata": {},
   "outputs": [
    {
     "data": {
      "text/html": [
       "<div>\n",
       "<style scoped>\n",
       "    .dataframe tbody tr th:only-of-type {\n",
       "        vertical-align: middle;\n",
       "    }\n",
       "\n",
       "    .dataframe tbody tr th {\n",
       "        vertical-align: top;\n",
       "    }\n",
       "\n",
       "    .dataframe thead th {\n",
       "        text-align: right;\n",
       "    }\n",
       "</style>\n",
       "<table border=\"1\" class=\"dataframe\">\n",
       "  <thead>\n",
       "    <tr style=\"text-align: right;\">\n",
       "      <th></th>\n",
       "      <th>GROSS_FIN_NEED</th>\n",
       "      <th>EST_FAM_CONTRIBUTION</th>\n",
       "      <th>COST_OF_ATTEND</th>\n",
       "      <th>UNMET_NEED</th>\n",
       "    </tr>\n",
       "  </thead>\n",
       "  <tbody>\n",
       "    <tr>\n",
       "      <th>2865</th>\n",
       "      <td>2124900.0</td>\n",
       "      <td>0.0</td>\n",
       "      <td>2124900.0</td>\n",
       "      <td>1478400.0</td>\n",
       "    </tr>\n",
       "    <tr>\n",
       "      <th>1588</th>\n",
       "      <td>857580.0</td>\n",
       "      <td>1225320.0</td>\n",
       "      <td>2082900.0</td>\n",
       "      <td>647580.0</td>\n",
       "    </tr>\n",
       "    <tr>\n",
       "      <th>1829</th>\n",
       "      <td>1933800.0</td>\n",
       "      <td>149100.0</td>\n",
       "      <td>2082900.0</td>\n",
       "      <td>749040.0</td>\n",
       "    </tr>\n",
       "  </tbody>\n",
       "</table>\n",
       "</div>"
      ],
      "text/plain": [
       "      GROSS_FIN_NEED  EST_FAM_CONTRIBUTION  COST_OF_ATTEND  UNMET_NEED\n",
       "2865       2124900.0                   0.0       2124900.0   1478400.0\n",
       "1588        857580.0             1225320.0       2082900.0    647580.0\n",
       "1829       1933800.0              149100.0       2082900.0    749040.0"
      ]
     },
     "metadata": {},
     "output_type": "display_data"
    },
    {
     "data": {
      "text/html": [
       "<div>\n",
       "<style scoped>\n",
       "    .dataframe tbody tr th:only-of-type {\n",
       "        vertical-align: middle;\n",
       "    }\n",
       "\n",
       "    .dataframe tbody tr th {\n",
       "        vertical-align: top;\n",
       "    }\n",
       "\n",
       "    .dataframe thead th {\n",
       "        text-align: right;\n",
       "    }\n",
       "</style>\n",
       "<table border=\"1\" class=\"dataframe\">\n",
       "  <thead>\n",
       "    <tr style=\"text-align: right;\">\n",
       "      <th></th>\n",
       "      <th>GROSS_FIN_NEED</th>\n",
       "      <th>EST_FAM_CONTRIBUTION</th>\n",
       "      <th>COST_OF_ATTEND</th>\n",
       "      <th>UNMET_NEED</th>\n",
       "    </tr>\n",
       "  </thead>\n",
       "  <tbody>\n",
       "    <tr>\n",
       "      <th>2783</th>\n",
       "      <td>0.0</td>\n",
       "      <td>372600.0</td>\n",
       "      <td>372600.0</td>\n",
       "      <td>0.0</td>\n",
       "    </tr>\n",
       "    <tr>\n",
       "      <th>2137</th>\n",
       "      <td>0.0</td>\n",
       "      <td>369000.0</td>\n",
       "      <td>369000.0</td>\n",
       "      <td>0.0</td>\n",
       "    </tr>\n",
       "    <tr>\n",
       "      <th>1799</th>\n",
       "      <td>141720.0</td>\n",
       "      <td>227280.0</td>\n",
       "      <td>369000.0</td>\n",
       "      <td>NaN</td>\n",
       "    </tr>\n",
       "    <tr>\n",
       "      <th>778</th>\n",
       "      <td>329040.0</td>\n",
       "      <td>31140.0</td>\n",
       "      <td>360180.0</td>\n",
       "      <td>233580.0</td>\n",
       "    </tr>\n",
       "    <tr>\n",
       "      <th>814</th>\n",
       "      <td>289800.0</td>\n",
       "      <td>70380.0</td>\n",
       "      <td>360180.0</td>\n",
       "      <td>NaN</td>\n",
       "    </tr>\n",
       "    <tr>\n",
       "      <th>...</th>\n",
       "      <td>...</td>\n",
       "      <td>...</td>\n",
       "      <td>...</td>\n",
       "      <td>...</td>\n",
       "    </tr>\n",
       "    <tr>\n",
       "      <th>769</th>\n",
       "      <td>NaN</td>\n",
       "      <td>NaN</td>\n",
       "      <td>108960.0</td>\n",
       "      <td>0.0</td>\n",
       "    </tr>\n",
       "    <tr>\n",
       "      <th>1082</th>\n",
       "      <td>NaN</td>\n",
       "      <td>NaN</td>\n",
       "      <td>108240.0</td>\n",
       "      <td>0.0</td>\n",
       "    </tr>\n",
       "    <tr>\n",
       "      <th>3264</th>\n",
       "      <td>NaN</td>\n",
       "      <td>NaN</td>\n",
       "      <td>99720.0</td>\n",
       "      <td>0.0</td>\n",
       "    </tr>\n",
       "    <tr>\n",
       "      <th>2500</th>\n",
       "      <td>NaN</td>\n",
       "      <td>NaN</td>\n",
       "      <td>99720.0</td>\n",
       "      <td>0.0</td>\n",
       "    </tr>\n",
       "    <tr>\n",
       "      <th>987</th>\n",
       "      <td>NaN</td>\n",
       "      <td>NaN</td>\n",
       "      <td>99720.0</td>\n",
       "      <td>0.0</td>\n",
       "    </tr>\n",
       "  </tbody>\n",
       "</table>\n",
       "<p>209 rows × 4 columns</p>\n",
       "</div>"
      ],
      "text/plain": [
       "      GROSS_FIN_NEED  EST_FAM_CONTRIBUTION  COST_OF_ATTEND  UNMET_NEED\n",
       "2783             0.0              372600.0        372600.0         0.0\n",
       "2137             0.0              369000.0        369000.0         0.0\n",
       "1799        141720.0              227280.0        369000.0         NaN\n",
       "778         329040.0               31140.0        360180.0    233580.0\n",
       "814         289800.0               70380.0        360180.0         NaN\n",
       "...              ...                   ...             ...         ...\n",
       "769              NaN                   NaN        108960.0         0.0\n",
       "1082             NaN                   NaN        108240.0         0.0\n",
       "3264             NaN                   NaN         99720.0         0.0\n",
       "2500             NaN                   NaN         99720.0         0.0\n",
       "987              NaN                   NaN         99720.0         0.0\n",
       "\n",
       "[209 rows x 4 columns]"
      ]
     },
     "metadata": {},
     "output_type": "display_data"
    }
   ],
   "source": [
    "q3=df['COST_OF_ATTEND'].quantile(.75)\n",
    "q1=df['COST_OF_ATTEND'].quantile(.25)\n",
    "iqr=q3-q1\n",
    "edge1=q1-(1.5*iqr)\n",
    "edge2=q3+(1.5*iqr)\n",
    "display(df[df['COST_OF_ATTEND']>edge2][['GROSS_FIN_NEED','EST_FAM_CONTRIBUTION','COST_OF_ATTEND','UNMET_NEED']].sort_values('COST_OF_ATTEND',ascending=False))\n",
    "display(df[df['COST_OF_ATTEND']<edge1][['GROSS_FIN_NEED','EST_FAM_CONTRIBUTION','COST_OF_ATTEND','UNMET_NEED']].sort_values('COST_OF_ATTEND',ascending=False))\n"
   ]
  },
  {
   "cell_type": "markdown",
   "metadata": {},
   "source": [
    "There are 209(bottom) & 3(top) outliers"
   ]
  },
  {
   "cell_type": "markdown",
   "metadata": {},
   "source": [
    "#### **Missing values treatment**"
   ]
  },
  {
   "cell_type": "code",
   "execution_count": 73,
   "metadata": {},
   "outputs": [
    {
     "data": {
      "text/plain": [
       "STUDENT IDENTIFIER             0\n",
       "STDNT_AGE                      0\n",
       "STDNT_GENDER                   0\n",
       "STDNT_BACKGROUND               0\n",
       "IN_STATE_FLAG                  0\n",
       "INTERNATIONAL_STS              0\n",
       "STDNT_MAJOR                    0\n",
       "STDNT_MINOR                    0\n",
       "STDNT_TEST_ENTRANCE1        2294\n",
       "STDNT_TEST_ENTRANCE2         908\n",
       "STDNT_TEST_ENTRANCE_COMB     518\n",
       "FIRST_TERM                     0\n",
       "CORE_COURSE_NAME_1_F           0\n",
       "CORE_COURSE_NAME_2_F          99\n",
       "CORE_COURSE_NAME_3_F         565\n",
       "CORE_COURSE_NAME_4_F        1597\n",
       "CORE_COURSE_NAME_5_F        2755\n",
       "CORE_COURSE_NAME_6_F        3272\n",
       "SECOND_TERM                    0\n",
       "CORE_COURSE_NAME_1_S         157\n",
       "CORE_COURSE_NAME_2_S         439\n",
       "CORE_COURSE_NAME_3_S        1038\n",
       "CORE_COURSE_NAME_4_S        2045\n",
       "CORE_COURSE_NAME_5_S        2950\n",
       "CORE_COURSE_NAME_6_S        3319\n",
       "HOUSING_STS                    0\n",
       "DISTANCE_FROM_HOME            25\n",
       "HIGH_SCHL_GPA                 53\n",
       "HIGH_SCHL_NAME                 0\n",
       "DEGREE_GROUP_CD                0\n",
       "DEGREE_GROUP_DESC              0\n",
       "FIRST_TERM_ATTEMPT_HRS         0\n",
       "FIRST_TERM_EARNED_HRS          0\n",
       "SECOND_TERM_ATTEMPT_HRS      206\n",
       "SECOND_TERM_EARNED_HRS       209\n",
       "GROSS_FIN_NEED              1900\n",
       "COST_OF_ATTEND              1679\n",
       "EST_FAM_CONTRIBUTION        1900\n",
       "UNMET_NEED                  1730\n",
       "ATTRITION                      0\n",
       "grade_sem1                     0\n",
       "grade_sem2                     0\n",
       "parents_edu_cd                 0\n",
       "parents_edu_desc               0\n",
       "dtype: int64"
      ]
     },
     "execution_count": 73,
     "metadata": {},
     "output_type": "execute_result"
    }
   ],
   "source": [
    "df.isnull().sum()"
   ]
  },
  {
   "cell_type": "code",
   "execution_count": 74,
   "metadata": {},
   "outputs": [
    {
     "data": {
      "text/plain": [
       "<matplotlib.axes._subplots.AxesSubplot at 0x23d98645348>"
      ]
     },
     "execution_count": 74,
     "metadata": {},
     "output_type": "execute_result"
    },
    {
     "data": {
      "image/png": "[encoded data removed]",
      "text/plain": [
       "<Figure size 864x504 with 4 Axes>"
      ]
     },
     "metadata": {
      "needs_background": "light"
     },
     "output_type": "display_data"
    }
   ],
   "source": [
    "fig, axes=plt.subplots(2,2,figsize=(12,7),tight_layout=True)\n",
    "sns.boxplot(y='EST_FAM_CONTRIBUTION',x='parents_edu_desc',data=df,ax=axes[0,0])\n",
    "sns.boxplot(y='UNMET_NEED',x='IN_STATE_FLAG',data=df,ax=axes[0,1])\n",
    "sns.scatterplot(y='UNMET_NEED',x='COST_OF_ATTEND',data=df,ax=axes[1,0])\n",
    "sns.boxplot(y='COST_OF_ATTEND',x='IN_STATE_FLAG',data=df,ax=axes[1,1])"
   ]
  },
  {
   "cell_type": "code",
   "execution_count": 75,
   "metadata": {},
   "outputs": [
    {
     "data": {
      "image/png": "[encoded data removed]",
      "text/plain": [
       "<Figure size 432x360 with 2 Axes>"
      ]
     },
     "metadata": {
      "needs_background": "light"
     },
     "output_type": "display_data"
    }
   ],
   "source": [
    "f,ax = plt.subplots(figsize=(6, 5))\n",
    "sns.heatmap(df[['GROSS_FIN_NEED','COST_OF_ATTEND','EST_FAM_CONTRIBUTION','UNMET_NEED']].corr(), annot=True, linewidths=.5, fmt= '.1f',ax=ax)\n",
    "plt.show()"
   ]
  },
  {
   "cell_type": "markdown",
   "metadata": {},
   "source": [
    "After cleaning financial indicators, we can take a look at correlation between them -\n",
    "1. gross fin need is highly correlated with family contribution & unmet need.\n",
    "2. family contribution is again highly correlated with unmet need.\n",
    "3. So, let's keep only COST_OF_ATTEND & UNMET_NEED"
   ]
  },
  {
   "cell_type": "markdown",
   "metadata": {},
   "source": [
    "Substituting UNMET_NEED by median with respect to PARENT_EDU_DESC"
   ]
  },
  {
   "cell_type": "code",
   "execution_count": 76,
   "metadata": {},
   "outputs": [
    {
     "data": {
      "text/plain": [
       "34"
      ]
     },
     "execution_count": 76,
     "metadata": {},
     "output_type": "execute_result"
    }
   ],
   "source": [
    "len(df[(df['UNMET_NEED'].isnull())&(df['COST_OF_ATTEND'].notnull())&(df['GROSS_FIN_NEED'].notnull())][['GROSS_FIN_NEED','EST_FAM_CONTRIBUTION','COST_OF_ATTEND','UNMET_NEED']])"
   ]
  },
  {
   "cell_type": "code",
   "execution_count": 77,
   "metadata": {},
   "outputs": [],
   "source": [
    "df.loc[(df['UNMET_NEED'].isnull())&(df['COST_OF_ATTEND'].notnull())&(df['GROSS_FIN_NEED'].notnull()),'UNMET_NEED']=df['GROSS_FIN_NEED']"
   ]
  },
  {
   "cell_type": "markdown",
   "metadata": {},
   "source": [
    "#### **Transforming COST_OF_ATTEND & UNMET NEED variables to categorical variable since it contains lot of missing values**"
   ]
  },
  {
   "cell_type": "code",
   "execution_count": 78,
   "metadata": {},
   "outputs": [
    {
     "data": {
      "text/plain": [
       "count      1721.000000\n",
       "mean    1089607.181871\n",
       "std      374357.228022\n",
       "min       99720.000000\n",
       "25%      945840.000000\n",
       "50%     1189920.000000\n",
       "75%     1324500.000000\n",
       "max     2124900.000000\n",
       "Name: COST_OF_ATTEND, dtype: float64"
      ]
     },
     "execution_count": 78,
     "metadata": {},
     "output_type": "execute_result"
    }
   ],
   "source": [
    "pd.set_option('float_format', '{:f}'.format)\n",
    "df['COST_OF_ATTEND'].describe()"
   ]
  },
  {
   "cell_type": "code",
   "execution_count": 79,
   "metadata": {},
   "outputs": [
    {
     "data": {
      "text/plain": [
       "unknown     1679\n",
       "too_high     481\n",
       "average      457\n",
       "high         393\n",
       "low          390\n",
       "Name: COST_OF_ATTEND, dtype: int64"
      ]
     },
     "execution_count": 79,
     "metadata": {},
     "output_type": "execute_result"
    }
   ],
   "source": [
    "def fun(x):\n",
    "    if x>=1324500:\n",
    "        return 'too_high'\n",
    "    elif x>=1189920:\n",
    "        return 'high'\n",
    "    elif x>=945840:\n",
    "        return 'average'\n",
    "    elif x>=99720:\n",
    "        return 'low'\n",
    "    else:\n",
    "        return 'unknown'\n",
    "df['COST_OF_ATTEND']=df['COST_OF_ATTEND'].apply(fun)\n",
    "df['COST_OF_ATTEND'].value_counts()"
   ]
  },
  {
   "cell_type": "code",
   "execution_count": 80,
   "metadata": {},
   "outputs": [
    {
     "data": {
      "text/plain": [
       "count      1704.000000\n",
       "mean     249769.265141\n",
       "std      266939.055377\n",
       "min           0.000000\n",
       "25%           0.000000\n",
       "50%      198840.000000\n",
       "75%      422880.000000\n",
       "max     1632660.000000\n",
       "Name: UNMET_NEED, dtype: float64"
      ]
     },
     "execution_count": 80,
     "metadata": {},
     "output_type": "execute_result"
    }
   ],
   "source": [
    "df['UNMET_NEED'].describe()"
   ]
  },
  {
   "cell_type": "code",
   "execution_count": 81,
   "metadata": {},
   "outputs": [
    {
     "name": "stdout",
     "output_type": "stream",
     "text": [
      "57312.00000000007\n"
     ]
    }
   ],
   "source": [
    "print(df['UNMET_NEED'].quantile(.4))"
   ]
  },
  {
   "cell_type": "code",
   "execution_count": 82,
   "metadata": {},
   "outputs": [
    {
     "data": {
      "text/plain": [
       "unknown     1696\n",
       "zero         633\n",
       "high         427\n",
       "too_high     426\n",
       "average      169\n",
       "low           49\n",
       "Name: UNMET_NEED, dtype: int64"
      ]
     },
     "execution_count": 82,
     "metadata": {},
     "output_type": "execute_result"
    }
   ],
   "source": [
    "def fun(x):\n",
    "    if x>=422880:\n",
    "        return 'too_high'\n",
    "    elif x>=198840:\n",
    "        return 'high'\n",
    "    elif x>=57312:\n",
    "        return 'average'\n",
    "    elif x>0:\n",
    "        return 'low'\n",
    "    elif x==0:\n",
    "        return 'zero'\n",
    "    else:\n",
    "        return 'unknown'\n",
    "    \n",
    "df['UNMET_NEED']=df['UNMET_NEED'].apply(fun)\n",
    "df['UNMET_NEED'].value_counts()"
   ]
  },
  {
   "cell_type": "code",
   "execution_count": 83,
   "metadata": {},
   "outputs": [
    {
     "data": {
      "text/plain": [
       "count   3347.000000\n",
       "mean       3.202738\n",
       "std        0.455337\n",
       "min        0.000000\n",
       "25%        2.870000\n",
       "50%        3.200000\n",
       "75%        3.560000\n",
       "max        4.000000\n",
       "Name: HIGH_SCHL_GPA, dtype: float64"
      ]
     },
     "execution_count": 83,
     "metadata": {},
     "output_type": "execute_result"
    }
   ],
   "source": [
    "df['HIGH_SCHL_GPA'].describe()"
   ]
  },
  {
   "cell_type": "code",
   "execution_count": 84,
   "metadata": {},
   "outputs": [],
   "source": [
    "df.loc[(df['HIGH_SCHL_GPA'].isnull()),'HIGH_SCHL_GPA']=df['HIGH_SCHL_GPA'].mean()"
   ]
  },
  {
   "cell_type": "code",
   "execution_count": 85,
   "metadata": {},
   "outputs": [
    {
     "data": {
      "text/plain": [
       "count   3191.000000\n",
       "mean      12.511125\n",
       "std        3.470492\n",
       "min        0.000000\n",
       "25%       11.000000\n",
       "50%       13.000000\n",
       "75%       15.000000\n",
       "max       23.000000\n",
       "Name: SECOND_TERM_EARNED_HRS, dtype: float64"
      ]
     },
     "execution_count": 85,
     "metadata": {},
     "output_type": "execute_result"
    }
   ],
   "source": [
    "df['SECOND_TERM_EARNED_HRS'].describe()"
   ]
  },
  {
   "cell_type": "code",
   "execution_count": 86,
   "metadata": {},
   "outputs": [
    {
     "data": {
      "text/plain": [
       "<matplotlib.axes._subplots.AxesSubplot at 0x23d98ce6988>"
      ]
     },
     "execution_count": 86,
     "metadata": {},
     "output_type": "execute_result"
    },
    {
     "data": {
      "image/png": "[encoded data removed]",
      "text/plain": [
       "<Figure size 432x288 with 1 Axes>"
      ]
     },
     "metadata": {
      "needs_background": "light"
     },
     "output_type": "display_data"
    }
   ],
   "source": [
    "sns.boxplot(y='SECOND_TERM_EARNED_HRS',data=df)"
   ]
  },
  {
   "cell_type": "code",
   "execution_count": 87,
   "metadata": {},
   "outputs": [
    {
     "name": "stdout",
     "output_type": "stream",
     "text": [
      "outliers above the upper whisker -  2\n",
      "outliers below the lower whisker -  113\n"
     ]
    }
   ],
   "source": [
    "q3=df['SECOND_TERM_EARNED_HRS'].quantile(.75)\n",
    "q1=df['SECOND_TERM_EARNED_HRS'].quantile(.25)\n",
    "iqr=q3-q1\n",
    "edge1=q1-(1.5*iqr)\n",
    "edge2=q3+(1.5*iqr)\n",
    "print('outliers above the upper whisker - ',len(df[df['SECOND_TERM_EARNED_HRS']>edge2][['SECOND_TERM_EARNED_HRS']].sort_values('SECOND_TERM_EARNED_HRS',ascending=False)))\n",
    "print('outliers below the lower whisker - ',len(df[df['SECOND_TERM_EARNED_HRS']<edge1][['SECOND_TERM_EARNED_HRS']].sort_values('SECOND_TERM_EARNED_HRS',ascending=False)))\n"
   ]
  },
  {
   "cell_type": "code",
   "execution_count": 88,
   "metadata": {},
   "outputs": [],
   "source": [
    "df.loc[(df['SECOND_TERM_EARNED_HRS'].isnull()),'SECOND_TERM_EARNED_HRS']=df['SECOND_TERM_EARNED_HRS'].median()"
   ]
  },
  {
   "cell_type": "code",
   "execution_count": 89,
   "metadata": {},
   "outputs": [
    {
     "data": {
      "text/html": [
       "<div>\n",
       "<style scoped>\n",
       "    .dataframe tbody tr th:only-of-type {\n",
       "        vertical-align: middle;\n",
       "    }\n",
       "\n",
       "    .dataframe tbody tr th {\n",
       "        vertical-align: top;\n",
       "    }\n",
       "\n",
       "    .dataframe thead th {\n",
       "        text-align: right;\n",
       "    }\n",
       "</style>\n",
       "<table border=\"1\" class=\"dataframe\">\n",
       "  <thead>\n",
       "    <tr style=\"text-align: right;\">\n",
       "      <th></th>\n",
       "      <th>STUDENT IDENTIFIER</th>\n",
       "      <th>STDNT_AGE</th>\n",
       "      <th>STDNT_GENDER</th>\n",
       "      <th>STDNT_BACKGROUND</th>\n",
       "      <th>IN_STATE_FLAG</th>\n",
       "      <th>INTERNATIONAL_STS</th>\n",
       "      <th>STDNT_MAJOR</th>\n",
       "      <th>STDNT_MINOR</th>\n",
       "      <th>STDNT_TEST_ENTRANCE1</th>\n",
       "      <th>STDNT_TEST_ENTRANCE2</th>\n",
       "      <th>...</th>\n",
       "      <th>SECOND_TERM_EARNED_HRS</th>\n",
       "      <th>GROSS_FIN_NEED</th>\n",
       "      <th>COST_OF_ATTEND</th>\n",
       "      <th>EST_FAM_CONTRIBUTION</th>\n",
       "      <th>UNMET_NEED</th>\n",
       "      <th>ATTRITION</th>\n",
       "      <th>grade_sem1</th>\n",
       "      <th>grade_sem2</th>\n",
       "      <th>parents_edu_cd</th>\n",
       "      <th>parents_edu_desc</th>\n",
       "    </tr>\n",
       "  </thead>\n",
       "  <tbody>\n",
       "    <tr>\n",
       "      <th>0</th>\n",
       "      <td>7808615</td>\n",
       "      <td>18</td>\n",
       "      <td>F</td>\n",
       "      <td>BGD 1</td>\n",
       "      <td>Y</td>\n",
       "      <td>N</td>\n",
       "      <td>Undeclared</td>\n",
       "      <td>N</td>\n",
       "      <td>nan</td>\n",
       "      <td>1150.000000</td>\n",
       "      <td>...</td>\n",
       "      <td>14.000000</td>\n",
       "      <td>nan</td>\n",
       "      <td>unknown</td>\n",
       "      <td>nan</td>\n",
       "      <td>unknown</td>\n",
       "      <td>1</td>\n",
       "      <td>5.000000</td>\n",
       "      <td>5.000000</td>\n",
       "      <td>4.000000</td>\n",
       "      <td>Unknown</td>\n",
       "    </tr>\n",
       "    <tr>\n",
       "      <th>1</th>\n",
       "      <td>7830063</td>\n",
       "      <td>19</td>\n",
       "      <td>F</td>\n",
       "      <td>BGD 1</td>\n",
       "      <td>N</td>\n",
       "      <td>N</td>\n",
       "      <td>Undeclared</td>\n",
       "      <td>N</td>\n",
       "      <td>26.000000</td>\n",
       "      <td>nan</td>\n",
       "      <td>...</td>\n",
       "      <td>18.000000</td>\n",
       "      <td>570000.000000</td>\n",
       "      <td>too_high</td>\n",
       "      <td>785760.000000</td>\n",
       "      <td>too_high</td>\n",
       "      <td>0</td>\n",
       "      <td>5.000000</td>\n",
       "      <td>5.000000</td>\n",
       "      <td>3.000000</td>\n",
       "      <td>College/Beyond</td>\n",
       "    </tr>\n",
       "    <tr>\n",
       "      <th>2</th>\n",
       "      <td>7847538</td>\n",
       "      <td>18</td>\n",
       "      <td>M</td>\n",
       "      <td>BGD 1</td>\n",
       "      <td>Y</td>\n",
       "      <td>N</td>\n",
       "      <td>education</td>\n",
       "      <td>N</td>\n",
       "      <td>nan</td>\n",
       "      <td>1020.000000</td>\n",
       "      <td>...</td>\n",
       "      <td>14.000000</td>\n",
       "      <td>nan</td>\n",
       "      <td>unknown</td>\n",
       "      <td>nan</td>\n",
       "      <td>unknown</td>\n",
       "      <td>0</td>\n",
       "      <td>5.000000</td>\n",
       "      <td>5.000000</td>\n",
       "      <td>3.000000</td>\n",
       "      <td>College/Beyond</td>\n",
       "    </tr>\n",
       "    <tr>\n",
       "      <th>3</th>\n",
       "      <td>8006429</td>\n",
       "      <td>18</td>\n",
       "      <td>M</td>\n",
       "      <td>BGD 1</td>\n",
       "      <td>Y</td>\n",
       "      <td>N</td>\n",
       "      <td>Undeclared</td>\n",
       "      <td>N</td>\n",
       "      <td>nan</td>\n",
       "      <td>1210.000000</td>\n",
       "      <td>...</td>\n",
       "      <td>14.000000</td>\n",
       "      <td>nan</td>\n",
       "      <td>unknown</td>\n",
       "      <td>nan</td>\n",
       "      <td>unknown</td>\n",
       "      <td>0</td>\n",
       "      <td>5.000000</td>\n",
       "      <td>5.000000</td>\n",
       "      <td>3.000000</td>\n",
       "      <td>College/Beyond</td>\n",
       "    </tr>\n",
       "    <tr>\n",
       "      <th>4</th>\n",
       "      <td>7962680</td>\n",
       "      <td>18</td>\n",
       "      <td>F</td>\n",
       "      <td>BGD 1</td>\n",
       "      <td>Y</td>\n",
       "      <td>N</td>\n",
       "      <td>arts</td>\n",
       "      <td>N</td>\n",
       "      <td>nan</td>\n",
       "      <td>1200.000000</td>\n",
       "      <td>...</td>\n",
       "      <td>12.000000</td>\n",
       "      <td>835920.000000</td>\n",
       "      <td>too_high</td>\n",
       "      <td>519840.000000</td>\n",
       "      <td>high</td>\n",
       "      <td>0</td>\n",
       "      <td>5.000000</td>\n",
       "      <td>5.000000</td>\n",
       "      <td>2.000000</td>\n",
       "      <td>High School</td>\n",
       "    </tr>\n",
       "  </tbody>\n",
       "</table>\n",
       "<p>5 rows × 44 columns</p>\n",
       "</div>"
      ],
      "text/plain": [
       "   STUDENT IDENTIFIER  STDNT_AGE STDNT_GENDER STDNT_BACKGROUND IN_STATE_FLAG  \\\n",
       "0             7808615         18            F            BGD 1             Y   \n",
       "1             7830063         19            F            BGD 1             N   \n",
       "2             7847538         18            M            BGD 1             Y   \n",
       "3             8006429         18            M            BGD 1             Y   \n",
       "4             7962680         18            F            BGD 1             Y   \n",
       "\n",
       "  INTERNATIONAL_STS STDNT_MAJOR STDNT_MINOR  STDNT_TEST_ENTRANCE1  \\\n",
       "0                 N  Undeclared           N                   nan   \n",
       "1                 N  Undeclared           N             26.000000   \n",
       "2                 N   education           N                   nan   \n",
       "3                 N  Undeclared           N                   nan   \n",
       "4                 N        arts           N                   nan   \n",
       "\n",
       "   STDNT_TEST_ENTRANCE2  ...  SECOND_TERM_EARNED_HRS  GROSS_FIN_NEED  \\\n",
       "0           1150.000000  ...               14.000000             nan   \n",
       "1                   nan  ...               18.000000   570000.000000   \n",
       "2           1020.000000  ...               14.000000             nan   \n",
       "3           1210.000000  ...               14.000000             nan   \n",
       "4           1200.000000  ...               12.000000   835920.000000   \n",
       "\n",
       "  COST_OF_ATTEND EST_FAM_CONTRIBUTION UNMET_NEED ATTRITION grade_sem1  \\\n",
       "0        unknown                  nan    unknown         1   5.000000   \n",
       "1       too_high        785760.000000   too_high         0   5.000000   \n",
       "2        unknown                  nan    unknown         0   5.000000   \n",
       "3        unknown                  nan    unknown         0   5.000000   \n",
       "4       too_high        519840.000000       high         0   5.000000   \n",
       "\n",
       "  grade_sem2  parents_edu_cd parents_edu_desc  \n",
       "0   5.000000        4.000000          Unknown  \n",
       "1   5.000000        3.000000   College/Beyond  \n",
       "2   5.000000        3.000000   College/Beyond  \n",
       "3   5.000000        3.000000   College/Beyond  \n",
       "4   5.000000        2.000000      High School  \n",
       "\n",
       "[5 rows x 44 columns]"
      ]
     },
     "execution_count": 89,
     "metadata": {},
     "output_type": "execute_result"
    }
   ],
   "source": [
    "df.head()"
   ]
  },
  {
   "cell_type": "code",
   "execution_count": 90,
   "metadata": {},
   "outputs": [
    {
     "data": {
      "text/plain": [
       "array(['language', 'ITDS', 'so_sci', nan, 'science', 'arts'], dtype=object)"
      ]
     },
     "execution_count": 90,
     "metadata": {},
     "output_type": "execute_result"
    }
   ],
   "source": [
    "df['CORE_COURSE_NAME_3_F'].unique()"
   ]
  },
  {
   "cell_type": "code",
   "execution_count": 91,
   "metadata": {},
   "outputs": [],
   "source": [
    "df.loc[(df['CORE_COURSE_NAME_2_F'].isnull()),'CORE_COURSE_NAME_2_F']='none'\n",
    "df.loc[(df['CORE_COURSE_NAME_3_F'].isnull()),'CORE_COURSE_NAME_3_F']='none'\n",
    "df.loc[(df['CORE_COURSE_NAME_4_F'].isnull()),'CORE_COURSE_NAME_4_F']='none'\n",
    "df.loc[(df['CORE_COURSE_NAME_5_F'].isnull()),'CORE_COURSE_NAME_5_F']='none'\n",
    "df.loc[(df['CORE_COURSE_NAME_6_F'].isnull()),'CORE_COURSE_NAME_6_F']='none'\n"
   ]
  },
  {
   "cell_type": "code",
   "execution_count": 92,
   "metadata": {},
   "outputs": [],
   "source": [
    "df.loc[(df['CORE_COURSE_NAME_1_S'].isnull()),'CORE_COURSE_NAME_1_S']='missing'\n",
    "df.loc[(df['CORE_COURSE_NAME_1_S']=='missing'),'CORE_COURSE_NAME_2_S']='missing'\n",
    "df.loc[(df['CORE_COURSE_NAME_1_S']=='missing'),'CORE_COURSE_NAME_3_S']='missing'\n",
    "df.loc[(df['CORE_COURSE_NAME_1_S']=='missing'),'CORE_COURSE_NAME_4_S']='missing'\n",
    "df.loc[(df['CORE_COURSE_NAME_1_S']=='missing'),'CORE_COURSE_NAME_5_S']='missing'\n",
    "df.loc[(df['CORE_COURSE_NAME_1_S']=='missing'),'CORE_COURSE_NAME_6_S']='missing'\n",
    "\n",
    "\n",
    "\n",
    "df.loc[(df['CORE_COURSE_NAME_2_S'].isnull()),'CORE_COURSE_NAME_2_S']='none'\n",
    "df.loc[(df['CORE_COURSE_NAME_3_S'].isnull()),'CORE_COURSE_NAME_3_S']='none'\n",
    "df.loc[(df['CORE_COURSE_NAME_4_S'].isnull()),'CORE_COURSE_NAME_4_S']='none'\n",
    "df.loc[(df['CORE_COURSE_NAME_5_S'].isnull()),'CORE_COURSE_NAME_5_S']='none'\n",
    "df.loc[(df['CORE_COURSE_NAME_6_S'].isnull()),'CORE_COURSE_NAME_6_S']='none'\n"
   ]
  },
  {
   "cell_type": "code",
   "execution_count": 93,
   "metadata": {},
   "outputs": [
    {
     "data": {
      "text/plain": [
       "STUDENT IDENTIFIER             0\n",
       "STDNT_AGE                      0\n",
       "STDNT_GENDER                   0\n",
       "STDNT_BACKGROUND               0\n",
       "IN_STATE_FLAG                  0\n",
       "INTERNATIONAL_STS              0\n",
       "STDNT_MAJOR                    0\n",
       "STDNT_MINOR                    0\n",
       "STDNT_TEST_ENTRANCE1        2294\n",
       "STDNT_TEST_ENTRANCE2         908\n",
       "STDNT_TEST_ENTRANCE_COMB     518\n",
       "FIRST_TERM                     0\n",
       "CORE_COURSE_NAME_1_F           0\n",
       "CORE_COURSE_NAME_2_F           0\n",
       "CORE_COURSE_NAME_3_F           0\n",
       "CORE_COURSE_NAME_4_F           0\n",
       "CORE_COURSE_NAME_5_F           0\n",
       "CORE_COURSE_NAME_6_F           0\n",
       "SECOND_TERM                    0\n",
       "CORE_COURSE_NAME_1_S           0\n",
       "CORE_COURSE_NAME_2_S           0\n",
       "CORE_COURSE_NAME_3_S           0\n",
       "CORE_COURSE_NAME_4_S           0\n",
       "CORE_COURSE_NAME_5_S           0\n",
       "CORE_COURSE_NAME_6_S           0\n",
       "HOUSING_STS                    0\n",
       "DISTANCE_FROM_HOME            25\n",
       "HIGH_SCHL_GPA                  0\n",
       "HIGH_SCHL_NAME                 0\n",
       "DEGREE_GROUP_CD                0\n",
       "DEGREE_GROUP_DESC              0\n",
       "FIRST_TERM_ATTEMPT_HRS         0\n",
       "FIRST_TERM_EARNED_HRS          0\n",
       "SECOND_TERM_ATTEMPT_HRS      206\n",
       "SECOND_TERM_EARNED_HRS         0\n",
       "GROSS_FIN_NEED              1900\n",
       "COST_OF_ATTEND                 0\n",
       "EST_FAM_CONTRIBUTION        1900\n",
       "UNMET_NEED                     0\n",
       "ATTRITION                      0\n",
       "grade_sem1                     0\n",
       "grade_sem2                     0\n",
       "parents_edu_cd                 0\n",
       "parents_edu_desc               0\n",
       "dtype: int64"
      ]
     },
     "execution_count": 93,
     "metadata": {},
     "output_type": "execute_result"
    }
   ],
   "source": [
    "df.isnull().sum()"
   ]
  },
  {
   "cell_type": "code",
   "execution_count": 94,
   "metadata": {},
   "outputs": [],
   "source": [
    "drop_cols=['STDNT_AGE',\n",
    "'STDNT_GENDER',\n",
    "'INTERNATIONAL_STS',\n",
    "'HIGH_SCHL_NAME',\n",
    "'DEGREE_GROUP_DESC',\n",
    "'STDNT_TEST_ENTRANCE1',\n",
    "'STDNT_TEST_ENTRANCE2',\n",
    "'SECOND_TERM',\n",
    "'STDNT_TEST_ENTRANCE_COMB',\n",
    "'DISTANCE_FROM_HOME',\n",
    "'DEGREE_GROUP_CD',\n",
    "'FIRST_TERM_ATTEMPT_HRS',\n",
    "'SECOND_TERM_ATTEMPT_HRS',\n",
    "'HIGH_SCHL_GPA',\n",
    "'GROSS_FIN_NEED',\n",
    "'EST_FAM_CONTRIBUTION',\n",
    "'parents_edu_cd',\n",
    "'STDNT_MINOR',\n",
    "'STUDENT IDENTIFIER'\n",
    "]\n",
    "df.drop(columns=drop_cols,inplace=True)"
   ]
  },
  {
   "cell_type": "code",
   "execution_count": 95,
   "metadata": {},
   "outputs": [
    {
     "data": {
      "text/plain": [
       "STDNT_BACKGROUND          0\n",
       "IN_STATE_FLAG             0\n",
       "STDNT_MAJOR               0\n",
       "FIRST_TERM                0\n",
       "CORE_COURSE_NAME_1_F      0\n",
       "CORE_COURSE_NAME_2_F      0\n",
       "CORE_COURSE_NAME_3_F      0\n",
       "CORE_COURSE_NAME_4_F      0\n",
       "CORE_COURSE_NAME_5_F      0\n",
       "CORE_COURSE_NAME_6_F      0\n",
       "CORE_COURSE_NAME_1_S      0\n",
       "CORE_COURSE_NAME_2_S      0\n",
       "CORE_COURSE_NAME_3_S      0\n",
       "CORE_COURSE_NAME_4_S      0\n",
       "CORE_COURSE_NAME_5_S      0\n",
       "CORE_COURSE_NAME_6_S      0\n",
       "HOUSING_STS               0\n",
       "FIRST_TERM_EARNED_HRS     0\n",
       "SECOND_TERM_EARNED_HRS    0\n",
       "COST_OF_ATTEND            0\n",
       "UNMET_NEED                0\n",
       "ATTRITION                 0\n",
       "grade_sem1                0\n",
       "grade_sem2                0\n",
       "parents_edu_desc          0\n",
       "dtype: int64"
      ]
     },
     "execution_count": 95,
     "metadata": {},
     "output_type": "execute_result"
    }
   ],
   "source": [
    "df.isnull().sum()"
   ]
  },
  {
   "cell_type": "code",
   "execution_count": 96,
   "metadata": {},
   "outputs": [],
   "source": [
    "df['FIRST_TERM']=df['FIRST_TERM'].astype('category')"
   ]
  },
  {
   "cell_type": "markdown",
   "metadata": {},
   "source": [
    "# Model Building"
   ]
  },
  {
   "cell_type": "code",
   "execution_count": 97,
   "metadata": {},
   "outputs": [],
   "source": [
    "X=df.drop('ATTRITION',axis=1)"
   ]
  },
  {
   "cell_type": "code",
   "execution_count": 98,
   "metadata": {},
   "outputs": [],
   "source": [
    "y=df['ATTRITION']"
   ]
  },
  {
   "cell_type": "code",
   "execution_count": 99,
   "metadata": {},
   "outputs": [],
   "source": [
    "X=pd.get_dummies(X)"
   ]
  },
  {
   "cell_type": "code",
   "execution_count": 100,
   "metadata": {},
   "outputs": [
    {
     "data": {
      "text/plain": [
       "['FIRST_TERM_EARNED_HRS',\n",
       " 'SECOND_TERM_EARNED_HRS',\n",
       " 'grade_sem1',\n",
       " 'grade_sem2',\n",
       " 'STDNT_BACKGROUND_BGD 1',\n",
       " 'STDNT_BACKGROUND_BGD 2',\n",
       " 'STDNT_BACKGROUND_BGD 3',\n",
       " 'STDNT_BACKGROUND_BGD 4',\n",
       " 'STDNT_BACKGROUND_BGD 5',\n",
       " 'STDNT_BACKGROUND_BGD 6',\n",
       " 'STDNT_BACKGROUND_BGD 7',\n",
       " 'STDNT_BACKGROUND_BGD 8',\n",
       " 'IN_STATE_FLAG_N',\n",
       " 'IN_STATE_FLAG_Y',\n",
       " 'STDNT_MAJOR_Undeclared',\n",
       " 'STDNT_MAJOR_accel',\n",
       " 'STDNT_MAJOR_arts',\n",
       " 'STDNT_MAJOR_business',\n",
       " 'STDNT_MAJOR_education',\n",
       " 'STDNT_MAJOR_nursing',\n",
       " 'FIRST_TERM_200508',\n",
       " 'FIRST_TERM_200608',\n",
       " 'FIRST_TERM_200708',\n",
       " 'FIRST_TERM_200808',\n",
       " 'FIRST_TERM_200908',\n",
       " 'FIRST_TERM_201008',\n",
       " 'CORE_COURSE_NAME_1_F_ITDS',\n",
       " 'CORE_COURSE_NAME_1_F_arts',\n",
       " 'CORE_COURSE_NAME_1_F_language',\n",
       " 'CORE_COURSE_NAME_1_F_science',\n",
       " 'CORE_COURSE_NAME_1_F_so_sci',\n",
       " 'CORE_COURSE_NAME_2_F_ITDS',\n",
       " 'CORE_COURSE_NAME_2_F_arts',\n",
       " 'CORE_COURSE_NAME_2_F_language',\n",
       " 'CORE_COURSE_NAME_2_F_none',\n",
       " 'CORE_COURSE_NAME_2_F_science',\n",
       " 'CORE_COURSE_NAME_2_F_so_sci',\n",
       " 'CORE_COURSE_NAME_3_F_ITDS',\n",
       " 'CORE_COURSE_NAME_3_F_arts',\n",
       " 'CORE_COURSE_NAME_3_F_language',\n",
       " 'CORE_COURSE_NAME_3_F_none',\n",
       " 'CORE_COURSE_NAME_3_F_science',\n",
       " 'CORE_COURSE_NAME_3_F_so_sci',\n",
       " 'CORE_COURSE_NAME_4_F_ITDS',\n",
       " 'CORE_COURSE_NAME_4_F_arts',\n",
       " 'CORE_COURSE_NAME_4_F_language',\n",
       " 'CORE_COURSE_NAME_4_F_none',\n",
       " 'CORE_COURSE_NAME_4_F_science',\n",
       " 'CORE_COURSE_NAME_4_F_so_sci',\n",
       " 'CORE_COURSE_NAME_5_F_ITDS',\n",
       " 'CORE_COURSE_NAME_5_F_Life',\n",
       " 'CORE_COURSE_NAME_5_F_arts',\n",
       " 'CORE_COURSE_NAME_5_F_language',\n",
       " 'CORE_COURSE_NAME_5_F_none',\n",
       " 'CORE_COURSE_NAME_5_F_science',\n",
       " 'CORE_COURSE_NAME_5_F_so_sci',\n",
       " 'CORE_COURSE_NAME_6_F_ITDS',\n",
       " 'CORE_COURSE_NAME_6_F_arts',\n",
       " 'CORE_COURSE_NAME_6_F_language',\n",
       " 'CORE_COURSE_NAME_6_F_none',\n",
       " 'CORE_COURSE_NAME_6_F_science',\n",
       " 'CORE_COURSE_NAME_6_F_so_sci',\n",
       " 'CORE_COURSE_NAME_1_S_ITDS',\n",
       " 'CORE_COURSE_NAME_1_S_arts',\n",
       " 'CORE_COURSE_NAME_1_S_language',\n",
       " 'CORE_COURSE_NAME_1_S_missing',\n",
       " 'CORE_COURSE_NAME_1_S_science',\n",
       " 'CORE_COURSE_NAME_1_S_so_sci',\n",
       " 'CORE_COURSE_NAME_2_S_ITDS',\n",
       " 'CORE_COURSE_NAME_2_S_arts',\n",
       " 'CORE_COURSE_NAME_2_S_language',\n",
       " 'CORE_COURSE_NAME_2_S_missing',\n",
       " 'CORE_COURSE_NAME_2_S_none',\n",
       " 'CORE_COURSE_NAME_2_S_science',\n",
       " 'CORE_COURSE_NAME_2_S_so_sci',\n",
       " 'CORE_COURSE_NAME_3_S_ITDS',\n",
       " 'CORE_COURSE_NAME_3_S_arts',\n",
       " 'CORE_COURSE_NAME_3_S_language',\n",
       " 'CORE_COURSE_NAME_3_S_missing',\n",
       " 'CORE_COURSE_NAME_3_S_none',\n",
       " 'CORE_COURSE_NAME_3_S_science',\n",
       " 'CORE_COURSE_NAME_3_S_so_sci',\n",
       " 'CORE_COURSE_NAME_4_S_ITDS',\n",
       " 'CORE_COURSE_NAME_4_S_arts',\n",
       " 'CORE_COURSE_NAME_4_S_language',\n",
       " 'CORE_COURSE_NAME_4_S_missing',\n",
       " 'CORE_COURSE_NAME_4_S_none',\n",
       " 'CORE_COURSE_NAME_4_S_science',\n",
       " 'CORE_COURSE_NAME_4_S_so_sci',\n",
       " 'CORE_COURSE_NAME_5_S_ITDS',\n",
       " 'CORE_COURSE_NAME_5_S_arts',\n",
       " 'CORE_COURSE_NAME_5_S_language',\n",
       " 'CORE_COURSE_NAME_5_S_missing',\n",
       " 'CORE_COURSE_NAME_5_S_none',\n",
       " 'CORE_COURSE_NAME_5_S_science',\n",
       " 'CORE_COURSE_NAME_5_S_so_sci',\n",
       " 'CORE_COURSE_NAME_6_S_ITDS',\n",
       " 'CORE_COURSE_NAME_6_S_arts',\n",
       " 'CORE_COURSE_NAME_6_S_language',\n",
       " 'CORE_COURSE_NAME_6_S_missing',\n",
       " 'CORE_COURSE_NAME_6_S_none',\n",
       " 'CORE_COURSE_NAME_6_S_science',\n",
       " 'CORE_COURSE_NAME_6_S_so_sci',\n",
       " 'HOUSING_STS_Off Campus',\n",
       " 'HOUSING_STS_On Campus',\n",
       " 'COST_OF_ATTEND_average',\n",
       " 'COST_OF_ATTEND_high',\n",
       " 'COST_OF_ATTEND_low',\n",
       " 'COST_OF_ATTEND_too_high',\n",
       " 'COST_OF_ATTEND_unknown',\n",
       " 'UNMET_NEED_average',\n",
       " 'UNMET_NEED_high',\n",
       " 'UNMET_NEED_low',\n",
       " 'UNMET_NEED_too_high',\n",
       " 'UNMET_NEED_unknown',\n",
       " 'UNMET_NEED_zero',\n",
       " 'parents_edu_desc_College/Beyond',\n",
       " 'parents_edu_desc_High School',\n",
       " 'parents_edu_desc_Middle School/Junior High',\n",
       " 'parents_edu_desc_Unknown']"
      ]
     },
     "execution_count": 100,
     "metadata": {},
     "output_type": "execute_result"
    }
   ],
   "source": [
    "X.columns.tolist()"
   ]
  },
  {
   "cell_type": "code",
   "execution_count": 101,
   "metadata": {},
   "outputs": [],
   "source": [
    "from sklearn.model_selection import train_test_split\n",
    "X_train,X_test,y_train,y_test=train_test_split(X,y,test_size=0.20,random_state=200)"
   ]
  },
  {
   "cell_type": "code",
   "execution_count": 102,
   "metadata": {},
   "outputs": [],
   "source": [
    "from sklearn.metrics import accuracy_score,make_scorer\n",
    "from sklearn.model_selection import GridSearchCV"
   ]
  },
  {
   "cell_type": "markdown",
   "metadata": {},
   "source": [
    "### **Logistic Regression**"
   ]
  },
  {
   "cell_type": "code",
   "execution_count": 103,
   "metadata": {},
   "outputs": [
    {
     "name": "stdout",
     "output_type": "stream",
     "text": [
      "0.8014705882352942\n"
     ]
    }
   ],
   "source": [
    "from sklearn.linear_model import LogisticRegression\n",
    "\n",
    "logreg_clf = LogisticRegression()\n",
    "logreg_clf.fit(X_train, y_train)\n",
    "pred_logreg = logreg_clf.predict(X_test)\n",
    "acc_logreg = accuracy_score(y_test, pred_logreg)\n",
    "\n",
    "print(acc_logreg)"
   ]
  },
  {
   "cell_type": "markdown",
   "metadata": {},
   "source": [
    "### Extreme Gradient Boosting"
   ]
  },
  {
   "cell_type": "code",
   "execution_count": 104,
   "metadata": {},
   "outputs": [
    {
     "name": "stdout",
     "output_type": "stream",
     "text": [
      "0.7808823529411765\n"
     ]
    }
   ],
   "source": [
    "from xgboost import XGBClassifier\n",
    "\n",
    "xg_clf = XGBClassifier(objective=\"binary:logistic\",seed=250)\n",
    "xg_clf.fit(X_train, y_train)\n",
    "pred_xg = xg_clf.predict(X_test)\n",
    "acc_xg = accuracy_score(y_test, pred_xg)\n",
    "\n",
    "print(acc_xg)"
   ]
  },
  {
   "cell_type": "markdown",
   "metadata": {},
   "source": [
    "### **GBM**"
   ]
  },
  {
   "cell_type": "code",
   "execution_count": 105,
   "metadata": {},
   "outputs": [
    {
     "name": "stdout",
     "output_type": "stream",
     "text": [
      "0.7808823529411765\n"
     ]
    }
   ],
   "source": [
    "from sklearn.ensemble import GradientBoostingClassifier\n",
    "\n",
    "gbm_clf = GradientBoostingClassifier(n_estimators=200,random_state=0)\n",
    "gbm_clf.fit(X_train, y_train)\n",
    "pred_gbm = xg_clf.predict(X_test)\n",
    "acc_gbm = accuracy_score(y_test, pred_gbm)\n",
    "\n",
    "print(acc_gbm)"
   ]
  },
  {
   "cell_type": "markdown",
   "metadata": {},
   "source": [
    "### **Random Forest Classifier**"
   ]
  },
  {
   "cell_type": "code",
   "execution_count": 106,
   "metadata": {},
   "outputs": [
    {
     "name": "stdout",
     "output_type": "stream",
     "text": [
      "0.8058823529411765\n"
     ]
    }
   ],
   "source": [
    "from sklearn.ensemble import RandomForestClassifier\n",
    "rf_clf = RandomForestClassifier(n_estimators=410,oob_score=True)\n",
    "rf_clf.fit(X_train, y_train)\n",
    "pred_rf = rf_clf.predict(X_test)\n",
    "acc_rf = accuracy_score(y_test, pred_rf)\n",
    "\n",
    "print(acc_rf)"
   ]
  },
  {
   "cell_type": "code",
   "execution_count": 107,
   "metadata": {},
   "outputs": [
    {
     "name": "stdout",
     "output_type": "stream",
     "text": [
      "For n_estimators = 400\n",
      "score is 0.8073529411764706\n",
      "************************\n",
      "For n_estimators = 410\n",
      "score is 0.8073529411764706\n",
      "************************\n",
      "For n_estimators = 420\n",
      "score is 0.8088235294117647\n",
      "************************\n",
      "For n_estimators = 430\n",
      "score is 0.8073529411764706\n",
      "************************\n",
      "For n_estimators = 440\n",
      "score is 0.8058823529411765\n",
      "************************\n",
      "For n_estimators = 450\n",
      "score is 0.8102941176470588\n",
      "************************\n",
      "For n_estimators = 460\n",
      "score is 0.8073529411764706\n",
      "************************\n",
      "For n_estimators = 470\n",
      "score is 0.8088235294117647\n",
      "************************\n",
      "For n_estimators = 480\n",
      "score is 0.8058823529411765\n",
      "************************\n",
      "For n_estimators = 490\n",
      "score is 0.8102941176470588\n",
      "************************\n",
      "For n_estimators = 500\n",
      "score is 0.8058823529411765\n",
      "************************\n",
      "For n_estimators = 510\n",
      "score is 0.8058823529411765\n",
      "************************\n",
      "For n_estimators = 520\n",
      "score is 0.8058823529411765\n",
      "************************\n",
      "For n_estimators = 530\n",
      "score is 0.8058823529411765\n",
      "************************\n",
      "For n_estimators = 540\n",
      "score is 0.8058823529411765\n",
      "************************\n",
      "For n_estimators = 550\n",
      "score is 0.8058823529411765\n",
      "************************\n",
      "For n_estimators = 560\n",
      "score is 0.8058823529411765\n",
      "************************\n",
      "For n_estimators = 570\n",
      "score is 0.8073529411764706\n",
      "************************\n",
      "For n_estimators = 580\n",
      "score is 0.8058823529411765\n",
      "************************\n",
      "For n_estimators = 590\n",
      "score is 0.8073529411764706\n",
      "************************\n",
      "For n_estimators = 600\n",
      "score is 0.8073529411764706\n",
      "************************\n",
      "For n_estimators = 610\n",
      "score is 0.8088235294117647\n",
      "************************\n",
      "For n_estimators = 620\n",
      "score is 0.8073529411764706\n",
      "************************\n",
      "For n_estimators = 630\n",
      "score is 0.8073529411764706\n",
      "************************\n",
      "For n_estimators = 640\n",
      "score is 0.8073529411764706\n",
      "************************\n"
     ]
    }
   ],
   "source": [
    "for w in range(400,650,10):\n",
    "    rf_clf=RandomForestClassifier(n_estimators=w,random_state=123)\n",
    "    rf_clf.fit(X_train,y_train)\n",
    "    score=rf_clf.score(X_test,y_test)\n",
    "    print('For n_estimators = '+str(w))\n",
    "    print('score is '+str(score))\n",
    "    print('************************')"
   ]
  },
  {
   "cell_type": "markdown",
   "metadata": {},
   "source": [
    "best estimators count seemingly is 490. Running random forest with 490 estimators"
   ]
  },
  {
   "cell_type": "code",
   "execution_count": 108,
   "metadata": {},
   "outputs": [
    {
     "name": "stdout",
     "output_type": "stream",
     "text": [
      "0.8132352941176471\n"
     ]
    }
   ],
   "source": [
    "rf_clf = RandomForestClassifier(n_estimators=490,oob_score=True)\n",
    "rf_clf.fit(X_train, y_train)\n",
    "pred_rf = rf_clf.predict(X_test)\n",
    "acc_rf = accuracy_score(y_test, pred_rf)\n",
    "\n",
    "print(acc_rf)"
   ]
  },
  {
   "cell_type": "code",
   "execution_count": 109,
   "metadata": {},
   "outputs": [
    {
     "data": {
      "text/html": [
       "<div>\n",
       "<style scoped>\n",
       "    .dataframe tbody tr th:only-of-type {\n",
       "        vertical-align: middle;\n",
       "    }\n",
       "\n",
       "    .dataframe tbody tr th {\n",
       "        vertical-align: top;\n",
       "    }\n",
       "\n",
       "    .dataframe thead th {\n",
       "        text-align: right;\n",
       "    }\n",
       "</style>\n",
       "<table border=\"1\" class=\"dataframe\">\n",
       "  <thead>\n",
       "    <tr style=\"text-align: right;\">\n",
       "      <th></th>\n",
       "      <th>Model</th>\n",
       "      <th>Accuracy</th>\n",
       "    </tr>\n",
       "  </thead>\n",
       "  <tbody>\n",
       "    <tr>\n",
       "      <th>0</th>\n",
       "      <td>Random Forest</td>\n",
       "      <td>0.813235</td>\n",
       "    </tr>\n",
       "    <tr>\n",
       "      <th>1</th>\n",
       "      <td>Logistic Regression</td>\n",
       "      <td>0.801471</td>\n",
       "    </tr>\n",
       "    <tr>\n",
       "      <th>2</th>\n",
       "      <td>XGBoost</td>\n",
       "      <td>0.780882</td>\n",
       "    </tr>\n",
       "    <tr>\n",
       "      <th>3</th>\n",
       "      <td>Gradient boosting</td>\n",
       "      <td>0.780882</td>\n",
       "    </tr>\n",
       "  </tbody>\n",
       "</table>\n",
       "</div>"
      ],
      "text/plain": [
       "                 Model  Accuracy\n",
       "0        Random Forest  0.813235\n",
       "1  Logistic Regression  0.801471\n",
       "2              XGBoost  0.780882\n",
       "3    Gradient boosting  0.780882"
      ]
     },
     "execution_count": 109,
     "metadata": {},
     "output_type": "execute_result"
    }
   ],
   "source": [
    "model_performance = pd.DataFrame({\n",
    "    \"Model\": ['Random Forest','Logistic Regression','XGBoost','Gradient boosting'],\n",
    "    \"Accuracy\": [acc_rf, acc_logreg, acc_xg, acc_gbm]\n",
    "})\n",
    "\n",
    "model_performance.sort_values(by=\"Accuracy\", ascending=False)"
   ]
  },
  {
   "cell_type": "markdown",
   "metadata": {},
   "source": [
    "**Finalizing Random Forest Classifier**"
   ]
  },
  {
   "cell_type": "code",
   "execution_count": 110,
   "metadata": {},
   "outputs": [],
   "source": [
    "pd.set_option('display.max_rows', None)"
   ]
  },
  {
   "cell_type": "code",
   "execution_count": 111,
   "metadata": {},
   "outputs": [
    {
     "data": {
      "text/plain": [
       "grade_sem2                                   0.071167\n",
       "grade_sem1                                   0.058158\n",
       "SECOND_TERM_EARNED_HRS                       0.053395\n",
       "FIRST_TERM_EARNED_HRS                        0.047138\n",
       "CORE_COURSE_NAME_6_S_missing                 0.017980\n",
       "CORE_COURSE_NAME_4_S_missing                 0.016525\n",
       "CORE_COURSE_NAME_2_S_missing                 0.015137\n",
       "CORE_COURSE_NAME_5_S_missing                 0.014627\n",
       "CORE_COURSE_NAME_1_S_missing                 0.014581\n",
       "CORE_COURSE_NAME_2_S_none                    0.014116\n",
       "parents_edu_desc_High School                 0.012132\n",
       "CORE_COURSE_NAME_1_S_so_sci                  0.012083\n",
       "CORE_COURSE_NAME_1_F_so_sci                  0.011831\n",
       "STDNT_MAJOR_education                        0.011782\n",
       "CORE_COURSE_NAME_2_F_so_sci                  0.011458\n",
       "CORE_COURSE_NAME_3_S_missing                 0.011433\n",
       "CORE_COURSE_NAME_3_F_so_sci                  0.011424\n",
       "parents_edu_desc_College/Beyond              0.011363\n",
       "CORE_COURSE_NAME_4_F_none                    0.011189\n",
       "STDNT_BACKGROUND_BGD 1                       0.011113\n",
       "HOUSING_STS_On Campus                        0.010756\n",
       "CORE_COURSE_NAME_1_F_language                0.010499\n",
       "CORE_COURSE_NAME_3_F_language                0.010448\n",
       "CORE_COURSE_NAME_1_F_science                 0.010394\n",
       "HOUSING_STS_Off Campus                       0.010179\n",
       "CORE_COURSE_NAME_2_S_so_sci                  0.010005\n",
       "CORE_COURSE_NAME_3_S_so_sci                  0.009903\n",
       "CORE_COURSE_NAME_3_F_science                 0.009899\n",
       "STDNT_BACKGROUND_BGD 3                       0.009892\n",
       "CORE_COURSE_NAME_2_F_science                 0.009887\n",
       "CORE_COURSE_NAME_1_S_science                 0.009840\n",
       "FIRST_TERM_200908                            0.009720\n",
       "CORE_COURSE_NAME_2_F_language                0.009526\n",
       "parents_edu_desc_Unknown                     0.009343\n",
       "CORE_COURSE_NAME_1_S_language                0.009299\n",
       "CORE_COURSE_NAME_6_S_none                    0.009167\n",
       "UNMET_NEED_zero                              0.009143\n",
       "CORE_COURSE_NAME_2_S_language                0.009116\n",
       "UNMET_NEED_unknown                           0.009086\n",
       "COST_OF_ATTEND_unknown                       0.009043\n",
       "STDNT_MAJOR_Undeclared                       0.009003\n",
       "CORE_COURSE_NAME_4_S_none                    0.008992\n",
       "FIRST_TERM_200508                            0.008931\n",
       "CORE_COURSE_NAME_2_S_science                 0.008839\n",
       "CORE_COURSE_NAME_3_S_none                    0.008789\n",
       "FIRST_TERM_200808                            0.008636\n",
       "FIRST_TERM_200608                            0.008394\n",
       "CORE_COURSE_NAME_3_F_none                    0.008370\n",
       "CORE_COURSE_NAME_4_F_so_sci                  0.008316\n",
       "FIRST_TERM_200708                            0.008236\n",
       "STDNT_MAJOR_business                         0.008159\n",
       "FIRST_TERM_201008                            0.007914\n",
       "CORE_COURSE_NAME_2_F_arts                    0.007869\n",
       "COST_OF_ATTEND_low                           0.007772\n",
       "STDNT_MAJOR_arts                             0.007727\n",
       "CORE_COURSE_NAME_3_S_language                0.007492\n",
       "CORE_COURSE_NAME_4_F_science                 0.007478\n",
       "UNMET_NEED_high                              0.007342\n",
       "UNMET_NEED_too_high                          0.007262\n",
       "CORE_COURSE_NAME_4_F_language                0.007212\n",
       "IN_STATE_FLAG_N                              0.007065\n",
       "COST_OF_ATTEND_average                       0.006959\n",
       "IN_STATE_FLAG_Y                              0.006933\n",
       "COST_OF_ATTEND_too_high                      0.006861\n",
       "CORE_COURSE_NAME_5_F_none                    0.006731\n",
       "CORE_COURSE_NAME_3_S_science                 0.006613\n",
       "STDNT_MAJOR_nursing                          0.006572\n",
       "COST_OF_ATTEND_high                          0.006400\n",
       "CORE_COURSE_NAME_5_S_none                    0.006037\n",
       "CORE_COURSE_NAME_4_S_science                 0.005988\n",
       "CORE_COURSE_NAME_4_S_language                0.005976\n",
       "CORE_COURSE_NAME_1_F_arts                    0.005957\n",
       "CORE_COURSE_NAME_3_F_arts                    0.005861\n",
       "CORE_COURSE_NAME_4_S_so_sci                  0.005680\n",
       "CORE_COURSE_NAME_3_S_arts                    0.005640\n",
       "CORE_COURSE_NAME_4_F_arts                    0.005552\n",
       "CORE_COURSE_NAME_1_S_arts                    0.005290\n",
       "CORE_COURSE_NAME_2_S_arts                    0.005184\n",
       "STDNT_BACKGROUND_BGD 4                       0.004744\n",
       "CORE_COURSE_NAME_3_S_ITDS                    0.004545\n",
       "CORE_COURSE_NAME_4_F_ITDS                    0.004543\n",
       "UNMET_NEED_average                           0.004377\n",
       "CORE_COURSE_NAME_5_F_language                0.003805\n",
       "CORE_COURSE_NAME_4_S_arts                    0.003749\n",
       "CORE_COURSE_NAME_4_S_ITDS                    0.003735\n",
       "CORE_COURSE_NAME_5_F_ITDS                    0.003619\n",
       "CORE_COURSE_NAME_5_F_science                 0.003603\n",
       "STDNT_BACKGROUND_BGD 6                       0.003440\n",
       "CORE_COURSE_NAME_5_F_so_sci                  0.003368\n",
       "CORE_COURSE_NAME_3_F_ITDS                    0.002998\n",
       "CORE_COURSE_NAME_6_F_none                    0.002941\n",
       "CORE_COURSE_NAME_5_S_science                 0.002861\n",
       "STDNT_BACKGROUND_BGD 2                       0.002855\n",
       "CORE_COURSE_NAME_2_F_none                    0.002770\n",
       "CORE_COURSE_NAME_5_S_so_sci                  0.002502\n",
       "CORE_COURSE_NAME_6_F_science                 0.002402\n",
       "CORE_COURSE_NAME_2_S_ITDS                    0.002263\n",
       "CORE_COURSE_NAME_5_S_language                0.002192\n",
       "CORE_COURSE_NAME_1_S_ITDS                    0.002009\n",
       "CORE_COURSE_NAME_2_F_ITDS                    0.001833\n",
       "STDNT_BACKGROUND_BGD 5                       0.001800\n",
       "CORE_COURSE_NAME_5_S_ITDS                    0.001795\n",
       "STDNT_MAJOR_accel                            0.001612\n",
       "CORE_COURSE_NAME_6_F_ITDS                    0.001584\n",
       "CORE_COURSE_NAME_6_F_language                0.001570\n",
       "parents_edu_desc_Middle School/Junior High   0.001480\n",
       "CORE_COURSE_NAME_5_S_arts                    0.001464\n",
       "UNMET_NEED_low                               0.001452\n",
       "CORE_COURSE_NAME_6_S_language                0.001353\n",
       "CORE_COURSE_NAME_6_S_so_sci                  0.001263\n",
       "CORE_COURSE_NAME_5_F_arts                    0.001208\n",
       "STDNT_BACKGROUND_BGD 7                       0.001154\n",
       "CORE_COURSE_NAME_1_F_ITDS                    0.001068\n",
       "CORE_COURSE_NAME_6_F_so_sci                  0.000716\n",
       "CORE_COURSE_NAME_6_S_ITDS                    0.000436\n",
       "CORE_COURSE_NAME_6_F_arts                    0.000352\n",
       "STDNT_BACKGROUND_BGD 8                       0.000350\n",
       "CORE_COURSE_NAME_6_S_science                 0.000285\n",
       "CORE_COURSE_NAME_6_S_arts                    0.000086\n",
       "CORE_COURSE_NAME_5_F_Life                    0.000011\n",
       "dtype: float64"
      ]
     },
     "execution_count": 111,
     "metadata": {},
     "output_type": "execute_result"
    }
   ],
   "source": [
    "imp_feat=pd.Series(rf_clf.feature_importances_,index=X.columns.tolist())\n",
    "imp_feat.sort_values(ascending=False)"
   ]
  },
  {
   "cell_type": "code",
   "execution_count": 112,
   "metadata": {},
   "outputs": [
    {
     "name": "stdout",
     "output_type": "stream",
     "text": [
      "The AUC for the model : 0.6667611988398323\n",
      "\n",
      "\n",
      "Confusion matrix : \n",
      " [[527   8]\n",
      " [119  26]]\n"
     ]
    }
   ],
   "source": [
    "from sklearn import metrics\n",
    "y_pred = rf_clf.predict(X_test)\n",
    "print('The AUC for the model :',str(metrics.roc_auc_score(y_test,rf_clf.predict_proba(X_test)[:,1])))\n",
    "print('\\n')\n",
    "print('Confusion matrix :','\\n',str(metrics.confusion_matrix(y_test,y_pred)))"
   ]
  },
  {
   "cell_type": "markdown",
   "metadata": {},
   "source": [
    "1. True Negatives = 527\n",
    "2. False Positives = 8\n",
    "3. False Negatives = 119\n",
    "4. True Positives = 26"
   ]
  },
  {
   "cell_type": "code",
   "execution_count": 113,
   "metadata": {},
   "outputs": [
    {
     "data": {
      "text/plain": [
       "<sklearn.metrics._plot.roc_curve.RocCurveDisplay at 0x23d9a8c3088>"
      ]
     },
     "execution_count": 113,
     "metadata": {},
     "output_type": "execute_result"
    },
    {
     "data": {
      "image/png": "[encoded data removed]",
      "text/plain": [
       "<Figure size 432x288 with 1 Axes>"
      ]
     },
     "metadata": {
      "needs_background": "light"
     },
     "output_type": "display_data"
    }
   ],
   "source": [
    "from sklearn.metrics import plot_roc_curve\n",
    "plot_roc_curve(rf_clf, X_test, y_test)"
   ]
  },
  {
   "cell_type": "code",
   "execution_count": 114,
   "metadata": {},
   "outputs": [
    {
     "data": {
      "text/plain": [
       "<matplotlib.axes._subplots.AxesSubplot at 0x23d9a891908>"
      ]
     },
     "execution_count": 114,
     "metadata": {},
     "output_type": "execute_result"
    },
    {
     "data": {
      "image/png": "[encoded data removed]",
      "text/plain": [
       "<Figure size 432x288 with 1 Axes>"
      ]
     },
     "metadata": {
      "needs_background": "light"
     },
     "output_type": "display_data"
    }
   ],
   "source": [
    "sns.boxplot(x='CORE_COURSE_NAME_1_S_missing',y='grade_sem1',data=X)"
   ]
  },
  {
   "cell_type": "markdown",
   "metadata": {},
   "source": [
    "In above plot, we can see students tend to drop out after sem1 if their performance is low."
   ]
  },
  {
   "cell_type": "code",
   "execution_count": 115,
   "metadata": {},
   "outputs": [
    {
     "data": {
      "text/plain": [
       "<matplotlib.axes._subplots.AxesSubplot at 0x23da0be98c8>"
      ]
     },
     "execution_count": 115,
     "metadata": {},
     "output_type": "execute_result"
    },
    {
     "data": {
      "image/png": "[encoded data removed]",
      "text/plain": [
       "<Figure size 432x288 with 1 Axes>"
      ]
     },
     "metadata": {
      "needs_background": "light"
     },
     "output_type": "display_data"
    }
   ],
   "source": [
    "f=pd.Series(imp_feat,name='Importance')\n",
    "f=f.to_frame().reset_index()\n",
    "f=f.rename(columns={'index':'Feature'}).sort_values('Importance',ascending=False)\n",
    "f1=f.head(10)\n",
    "sns.barplot(y='Feature',x='Importance',data=f1)"
   ]
  },
  {
   "cell_type": "markdown",
   "metadata": {},
   "source": [
    "**Key takeaways**\n",
    "1. Student grades play crucial role in terms of attrition followed by students earned hours. Which means Performance record segment has upmost importance than any other segment.\n",
    "2. Students who are missing in second semester; who may not have chosen any course in 2nd sem tend to leave more likely. This is happening with students who have lower performance in sem 1.\n",
    "3. Parents education also seems to be an imporatant factor. Parents with higher education have higher propensity to contrubute more for students financial need. Moreover, cost of attend has increased year on year from 2005 to 2009."
   ]
  }
 ],
 "metadata": {
  "kernelspec": {
   "display_name": "Python 3",
   "language": "python",
   "name": "python3"
  },
  "language_info": {
   "codemirror_mode": {
    "name": "ipython",
    "version": 3
   },
   "file_extension": ".py",
   "mimetype": "text/x-python",
   "name": "python",
   "nbconvert_exporter": "python",
   "pygments_lexer": "ipython3",
   "version": "3.7.6"
  }
 },
 "nbformat": 4,
 "nbformat_minor": 4
}
